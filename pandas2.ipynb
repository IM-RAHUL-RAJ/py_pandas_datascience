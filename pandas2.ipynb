{
  "nbformat": 4,
  "nbformat_minor": 0,
  "metadata": {
    "colab": {
      "name": "pandas2.ipynb",
      "provenance": [],
      "collapsed_sections": [],
      "authorship_tag": "ABX9TyNy9TRt2KPyVWInH5bamjac",
      "include_colab_link": true
    },
    "kernelspec": {
      "name": "python3",
      "display_name": "Python 3"
    }
  },
  "cells": [
    {
      "cell_type": "markdown",
      "metadata": {
        "id": "view-in-github",
        "colab_type": "text"
      },
      "source": [
        "<a href=\"https://colab.research.google.com/github/IM-RAHUL-RAJ/py_pandas_datascience/blob/main/pandas2.ipynb\" target=\"_parent\"><img src=\"https://colab.research.google.com/assets/colab-badge.svg\" alt=\"Open In Colab\"/></a>"
      ]
    },
    {
      "cell_type": "code",
      "metadata": {
        "id": "1DiZf21wDbyX"
      },
      "source": [
        "import pandas as pd"
      ],
      "execution_count": 1,
      "outputs": []
    },
    {
      "cell_type": "code",
      "metadata": {
        "id": "YU6uU_FpEUpu"
      },
      "source": [
        "df=pd.read_csv(\"/business-price-indexes-september-2020-quarter-corrections-to-previously-published-statistics.csv\")"
      ],
      "execution_count": 4,
      "outputs": []
    },
    {
      "cell_type": "code",
      "metadata": {
        "colab": {
          "base_uri": "https://localhost:8080/",
          "height": 402
        },
        "id": "UI_X3vXDEium",
        "outputId": "25c9236f-c17e-4466-e4ab-93241a467a75"
      },
      "source": [
        "df\r\n"
      ],
      "execution_count": 5,
      "outputs": [
        {
          "output_type": "execute_result",
          "data": {
            "text/html": [
              "<div>\n",
              "<style scoped>\n",
              "    .dataframe tbody tr th:only-of-type {\n",
              "        vertical-align: middle;\n",
              "    }\n",
              "\n",
              "    .dataframe tbody tr th {\n",
              "        vertical-align: top;\n",
              "    }\n",
              "\n",
              "    .dataframe thead th {\n",
              "        text-align: right;\n",
              "    }\n",
              "</style>\n",
              "<table border=\"1\" class=\"dataframe\">\n",
              "  <thead>\n",
              "    <tr style=\"text-align: right;\">\n",
              "      <th></th>\n",
              "      <th>Series reference</th>\n",
              "      <th>Description</th>\n",
              "      <th>Period</th>\n",
              "      <th>Previously published</th>\n",
              "      <th>Revised</th>\n",
              "    </tr>\n",
              "  </thead>\n",
              "  <tbody>\n",
              "    <tr>\n",
              "      <th>0</th>\n",
              "      <td>PPIQ.SQU900000</td>\n",
              "      <td>PPI output index - All industries</td>\n",
              "      <td>2020.06</td>\n",
              "      <td>1183</td>\n",
              "      <td>1184</td>\n",
              "    </tr>\n",
              "    <tr>\n",
              "      <th>1</th>\n",
              "      <td>PPIQ.SQU900001</td>\n",
              "      <td>PPI output index - All industries excl OOD</td>\n",
              "      <td>2020.06</td>\n",
              "      <td>1180</td>\n",
              "      <td>1181</td>\n",
              "    </tr>\n",
              "    <tr>\n",
              "      <th>2</th>\n",
              "      <td>PPIQ.SQUC76745</td>\n",
              "      <td>PPI published output commodity - Transport sup...</td>\n",
              "      <td>2020.06</td>\n",
              "      <td>1400</td>\n",
              "      <td>1603</td>\n",
              "    </tr>\n",
              "    <tr>\n",
              "      <th>3</th>\n",
              "      <td>PPIQ.SQUCC3100</td>\n",
              "      <td>PPI output index level 3 - Wood product manufa...</td>\n",
              "      <td>2020.06</td>\n",
              "      <td>1169</td>\n",
              "      <td>1170</td>\n",
              "    </tr>\n",
              "    <tr>\n",
              "      <th>4</th>\n",
              "      <td>PPIQ.SQUCC3110</td>\n",
              "      <td>PPI output index level 4 - Wood product manufa...</td>\n",
              "      <td>2020.06</td>\n",
              "      <td>1169</td>\n",
              "      <td>1170</td>\n",
              "    </tr>\n",
              "    <tr>\n",
              "      <th>...</th>\n",
              "      <td>...</td>\n",
              "      <td>...</td>\n",
              "      <td>...</td>\n",
              "      <td>...</td>\n",
              "      <td>...</td>\n",
              "    </tr>\n",
              "    <tr>\n",
              "      <th>73</th>\n",
              "      <td>PPIQ.SQNMN2100</td>\n",
              "      <td>PPI input index level 3 - Administrative and s...</td>\n",
              "      <td>2020.06</td>\n",
              "      <td>1194</td>\n",
              "      <td>1195</td>\n",
              "    </tr>\n",
              "    <tr>\n",
              "      <th>74</th>\n",
              "      <td>PPIQ.SQNRS211X</td>\n",
              "      <td>PPI input index level 4 - Repair &amp; maintenance</td>\n",
              "      <td>2020.06</td>\n",
              "      <td>1126</td>\n",
              "      <td>1127</td>\n",
              "    </tr>\n",
              "    <tr>\n",
              "      <th>75</th>\n",
              "      <td>FPIQ.SEC14</td>\n",
              "      <td>Farm expenses price index - Dairy farms - Freight</td>\n",
              "      <td>2020.06</td>\n",
              "      <td>1102</td>\n",
              "      <td>1120</td>\n",
              "    </tr>\n",
              "    <tr>\n",
              "      <th>76</th>\n",
              "      <td>FPIQ.SEC99</td>\n",
              "      <td>Farm expenses price index - Dairy farms - All ...</td>\n",
              "      <td>2020.06</td>\n",
              "      <td>1067</td>\n",
              "      <td>1068</td>\n",
              "    </tr>\n",
              "    <tr>\n",
              "      <th>77</th>\n",
              "      <td>FPIQ.SEH14</td>\n",
              "      <td>Farm expenses price index - All farms - Freight</td>\n",
              "      <td>2020.06</td>\n",
              "      <td>1102</td>\n",
              "      <td>1110</td>\n",
              "    </tr>\n",
              "  </tbody>\n",
              "</table>\n",
              "<p>78 rows × 5 columns</p>\n",
              "</div>"
            ],
            "text/plain": [
              "   Series reference  ... Revised\n",
              "0    PPIQ.SQU900000  ...    1184\n",
              "1    PPIQ.SQU900001  ...    1181\n",
              "2    PPIQ.SQUC76745  ...    1603\n",
              "3    PPIQ.SQUCC3100  ...    1170\n",
              "4    PPIQ.SQUCC3110  ...    1170\n",
              "..              ...  ...     ...\n",
              "73   PPIQ.SQNMN2100  ...    1195\n",
              "74   PPIQ.SQNRS211X  ...    1127\n",
              "75       FPIQ.SEC14  ...    1120\n",
              "76       FPIQ.SEC99  ...    1068\n",
              "77       FPIQ.SEH14  ...    1110\n",
              "\n",
              "[78 rows x 5 columns]"
            ]
          },
          "metadata": {
            "tags": []
          },
          "execution_count": 5
        }
      ]
    },
    {
      "cell_type": "code",
      "metadata": {
        "colab": {
          "base_uri": "https://localhost:8080/"
        },
        "id": "l9FbLRKvFD38",
        "outputId": "7926aef7-e1ca-4dfb-a085-44ff3962f628"
      },
      "source": [
        "df.shape   #tuple"
      ],
      "execution_count": 6,
      "outputs": [
        {
          "output_type": "execute_result",
          "data": {
            "text/plain": [
              "(78, 5)"
            ]
          },
          "metadata": {
            "tags": []
          },
          "execution_count": 6
        }
      ]
    },
    {
      "cell_type": "code",
      "metadata": {
        "id": "SpLu9-HaFU7U"
      },
      "source": [
        "rows,columns=df.shape"
      ],
      "execution_count": 7,
      "outputs": []
    },
    {
      "cell_type": "code",
      "metadata": {
        "colab": {
          "base_uri": "https://localhost:8080/"
        },
        "id": "4F4yT1AFFcU2",
        "outputId": "874a05d0-5026-4d1a-9ac8-2e0ccc25a0f1"
      },
      "source": [
        "rows"
      ],
      "execution_count": 8,
      "outputs": [
        {
          "output_type": "execute_result",
          "data": {
            "text/plain": [
              "78"
            ]
          },
          "metadata": {
            "tags": []
          },
          "execution_count": 8
        }
      ]
    },
    {
      "cell_type": "code",
      "metadata": {
        "colab": {
          "base_uri": "https://localhost:8080/"
        },
        "id": "_7wi-CbhFdXg",
        "outputId": "ae0f93ab-1b6a-4128-88fd-d0411c5d0c6a"
      },
      "source": [
        "df.tail"
      ],
      "execution_count": 9,
      "outputs": [
        {
          "output_type": "execute_result",
          "data": {
            "text/plain": [
              "<bound method NDFrame.tail of    Series reference  ... Revised\n",
              "0    PPIQ.SQU900000  ...    1184\n",
              "1    PPIQ.SQU900001  ...    1181\n",
              "2    PPIQ.SQUC76745  ...    1603\n",
              "3    PPIQ.SQUCC3100  ...    1170\n",
              "4    PPIQ.SQUCC3110  ...    1170\n",
              "..              ...  ...     ...\n",
              "73   PPIQ.SQNMN2100  ...    1195\n",
              "74   PPIQ.SQNRS211X  ...    1127\n",
              "75       FPIQ.SEC14  ...    1120\n",
              "76       FPIQ.SEC99  ...    1068\n",
              "77       FPIQ.SEH14  ...    1110\n",
              "\n",
              "[78 rows x 5 columns]>"
            ]
          },
          "metadata": {
            "tags": []
          },
          "execution_count": 9
        }
      ]
    },
    {
      "cell_type": "code",
      "metadata": {
        "colab": {
          "base_uri": "https://localhost:8080/"
        },
        "id": "TJnS7nFiFlTb",
        "outputId": "c26b2c29-e0d5-4de2-b92a-14790cde15b1"
      },
      "source": [
        "df.head"
      ],
      "execution_count": 10,
      "outputs": [
        {
          "output_type": "execute_result",
          "data": {
            "text/plain": [
              "<bound method NDFrame.head of    Series reference  ... Revised\n",
              "0    PPIQ.SQU900000  ...    1184\n",
              "1    PPIQ.SQU900001  ...    1181\n",
              "2    PPIQ.SQUC76745  ...    1603\n",
              "3    PPIQ.SQUCC3100  ...    1170\n",
              "4    PPIQ.SQUCC3110  ...    1170\n",
              "..              ...  ...     ...\n",
              "73   PPIQ.SQNMN2100  ...    1195\n",
              "74   PPIQ.SQNRS211X  ...    1127\n",
              "75       FPIQ.SEC14  ...    1120\n",
              "76       FPIQ.SEC99  ...    1068\n",
              "77       FPIQ.SEH14  ...    1110\n",
              "\n",
              "[78 rows x 5 columns]>"
            ]
          },
          "metadata": {
            "tags": []
          },
          "execution_count": 10
        }
      ]
    },
    {
      "cell_type": "code",
      "metadata": {
        "colab": {
          "base_uri": "https://localhost:8080/",
          "height": 195
        },
        "id": "4e5Uh5tmFnsU",
        "outputId": "ffbab8df-8e9a-4416-d7c1-0b224101fbb2"
      },
      "source": [
        "df.head()"
      ],
      "execution_count": 11,
      "outputs": [
        {
          "output_type": "execute_result",
          "data": {
            "text/html": [
              "<div>\n",
              "<style scoped>\n",
              "    .dataframe tbody tr th:only-of-type {\n",
              "        vertical-align: middle;\n",
              "    }\n",
              "\n",
              "    .dataframe tbody tr th {\n",
              "        vertical-align: top;\n",
              "    }\n",
              "\n",
              "    .dataframe thead th {\n",
              "        text-align: right;\n",
              "    }\n",
              "</style>\n",
              "<table border=\"1\" class=\"dataframe\">\n",
              "  <thead>\n",
              "    <tr style=\"text-align: right;\">\n",
              "      <th></th>\n",
              "      <th>Series reference</th>\n",
              "      <th>Description</th>\n",
              "      <th>Period</th>\n",
              "      <th>Previously published</th>\n",
              "      <th>Revised</th>\n",
              "    </tr>\n",
              "  </thead>\n",
              "  <tbody>\n",
              "    <tr>\n",
              "      <th>0</th>\n",
              "      <td>PPIQ.SQU900000</td>\n",
              "      <td>PPI output index - All industries</td>\n",
              "      <td>2020.06</td>\n",
              "      <td>1183</td>\n",
              "      <td>1184</td>\n",
              "    </tr>\n",
              "    <tr>\n",
              "      <th>1</th>\n",
              "      <td>PPIQ.SQU900001</td>\n",
              "      <td>PPI output index - All industries excl OOD</td>\n",
              "      <td>2020.06</td>\n",
              "      <td>1180</td>\n",
              "      <td>1181</td>\n",
              "    </tr>\n",
              "    <tr>\n",
              "      <th>2</th>\n",
              "      <td>PPIQ.SQUC76745</td>\n",
              "      <td>PPI published output commodity - Transport sup...</td>\n",
              "      <td>2020.06</td>\n",
              "      <td>1400</td>\n",
              "      <td>1603</td>\n",
              "    </tr>\n",
              "    <tr>\n",
              "      <th>3</th>\n",
              "      <td>PPIQ.SQUCC3100</td>\n",
              "      <td>PPI output index level 3 - Wood product manufa...</td>\n",
              "      <td>2020.06</td>\n",
              "      <td>1169</td>\n",
              "      <td>1170</td>\n",
              "    </tr>\n",
              "    <tr>\n",
              "      <th>4</th>\n",
              "      <td>PPIQ.SQUCC3110</td>\n",
              "      <td>PPI output index level 4 - Wood product manufa...</td>\n",
              "      <td>2020.06</td>\n",
              "      <td>1169</td>\n",
              "      <td>1170</td>\n",
              "    </tr>\n",
              "  </tbody>\n",
              "</table>\n",
              "</div>"
            ],
            "text/plain": [
              "  Series reference  ... Revised\n",
              "0   PPIQ.SQU900000  ...    1184\n",
              "1   PPIQ.SQU900001  ...    1181\n",
              "2   PPIQ.SQUC76745  ...    1603\n",
              "3   PPIQ.SQUCC3100  ...    1170\n",
              "4   PPIQ.SQUCC3110  ...    1170\n",
              "\n",
              "[5 rows x 5 columns]"
            ]
          },
          "metadata": {
            "tags": []
          },
          "execution_count": 11
        }
      ]
    },
    {
      "cell_type": "code",
      "metadata": {
        "colab": {
          "base_uri": "https://localhost:8080/",
          "height": 195
        },
        "id": "RzLPZkg3FphF",
        "outputId": "ff2bd050-af99-43ea-f139-d7a192226542"
      },
      "source": [
        "df.tail()"
      ],
      "execution_count": 12,
      "outputs": [
        {
          "output_type": "execute_result",
          "data": {
            "text/html": [
              "<div>\n",
              "<style scoped>\n",
              "    .dataframe tbody tr th:only-of-type {\n",
              "        vertical-align: middle;\n",
              "    }\n",
              "\n",
              "    .dataframe tbody tr th {\n",
              "        vertical-align: top;\n",
              "    }\n",
              "\n",
              "    .dataframe thead th {\n",
              "        text-align: right;\n",
              "    }\n",
              "</style>\n",
              "<table border=\"1\" class=\"dataframe\">\n",
              "  <thead>\n",
              "    <tr style=\"text-align: right;\">\n",
              "      <th></th>\n",
              "      <th>Series reference</th>\n",
              "      <th>Description</th>\n",
              "      <th>Period</th>\n",
              "      <th>Previously published</th>\n",
              "      <th>Revised</th>\n",
              "    </tr>\n",
              "  </thead>\n",
              "  <tbody>\n",
              "    <tr>\n",
              "      <th>73</th>\n",
              "      <td>PPIQ.SQNMN2100</td>\n",
              "      <td>PPI input index level 3 - Administrative and s...</td>\n",
              "      <td>2020.06</td>\n",
              "      <td>1194</td>\n",
              "      <td>1195</td>\n",
              "    </tr>\n",
              "    <tr>\n",
              "      <th>74</th>\n",
              "      <td>PPIQ.SQNRS211X</td>\n",
              "      <td>PPI input index level 4 - Repair &amp; maintenance</td>\n",
              "      <td>2020.06</td>\n",
              "      <td>1126</td>\n",
              "      <td>1127</td>\n",
              "    </tr>\n",
              "    <tr>\n",
              "      <th>75</th>\n",
              "      <td>FPIQ.SEC14</td>\n",
              "      <td>Farm expenses price index - Dairy farms - Freight</td>\n",
              "      <td>2020.06</td>\n",
              "      <td>1102</td>\n",
              "      <td>1120</td>\n",
              "    </tr>\n",
              "    <tr>\n",
              "      <th>76</th>\n",
              "      <td>FPIQ.SEC99</td>\n",
              "      <td>Farm expenses price index - Dairy farms - All ...</td>\n",
              "      <td>2020.06</td>\n",
              "      <td>1067</td>\n",
              "      <td>1068</td>\n",
              "    </tr>\n",
              "    <tr>\n",
              "      <th>77</th>\n",
              "      <td>FPIQ.SEH14</td>\n",
              "      <td>Farm expenses price index - All farms - Freight</td>\n",
              "      <td>2020.06</td>\n",
              "      <td>1102</td>\n",
              "      <td>1110</td>\n",
              "    </tr>\n",
              "  </tbody>\n",
              "</table>\n",
              "</div>"
            ],
            "text/plain": [
              "   Series reference  ... Revised\n",
              "73   PPIQ.SQNMN2100  ...    1195\n",
              "74   PPIQ.SQNRS211X  ...    1127\n",
              "75       FPIQ.SEC14  ...    1120\n",
              "76       FPIQ.SEC99  ...    1068\n",
              "77       FPIQ.SEH14  ...    1110\n",
              "\n",
              "[5 rows x 5 columns]"
            ]
          },
          "metadata": {
            "tags": []
          },
          "execution_count": 12
        }
      ]
    },
    {
      "cell_type": "code",
      "metadata": {
        "colab": {
          "base_uri": "https://localhost:8080/",
          "height": 106
        },
        "id": "_tOwl9UPFrHC",
        "outputId": "8db5fe7c-4675-4865-f918-4919482ed75e"
      },
      "source": [
        "df.head(2)"
      ],
      "execution_count": 13,
      "outputs": [
        {
          "output_type": "execute_result",
          "data": {
            "text/html": [
              "<div>\n",
              "<style scoped>\n",
              "    .dataframe tbody tr th:only-of-type {\n",
              "        vertical-align: middle;\n",
              "    }\n",
              "\n",
              "    .dataframe tbody tr th {\n",
              "        vertical-align: top;\n",
              "    }\n",
              "\n",
              "    .dataframe thead th {\n",
              "        text-align: right;\n",
              "    }\n",
              "</style>\n",
              "<table border=\"1\" class=\"dataframe\">\n",
              "  <thead>\n",
              "    <tr style=\"text-align: right;\">\n",
              "      <th></th>\n",
              "      <th>Series reference</th>\n",
              "      <th>Description</th>\n",
              "      <th>Period</th>\n",
              "      <th>Previously published</th>\n",
              "      <th>Revised</th>\n",
              "    </tr>\n",
              "  </thead>\n",
              "  <tbody>\n",
              "    <tr>\n",
              "      <th>0</th>\n",
              "      <td>PPIQ.SQU900000</td>\n",
              "      <td>PPI output index - All industries</td>\n",
              "      <td>2020.06</td>\n",
              "      <td>1183</td>\n",
              "      <td>1184</td>\n",
              "    </tr>\n",
              "    <tr>\n",
              "      <th>1</th>\n",
              "      <td>PPIQ.SQU900001</td>\n",
              "      <td>PPI output index - All industries excl OOD</td>\n",
              "      <td>2020.06</td>\n",
              "      <td>1180</td>\n",
              "      <td>1181</td>\n",
              "    </tr>\n",
              "  </tbody>\n",
              "</table>\n",
              "</div>"
            ],
            "text/plain": [
              "  Series reference  ... Revised\n",
              "0   PPIQ.SQU900000  ...    1184\n",
              "1   PPIQ.SQU900001  ...    1181\n",
              "\n",
              "[2 rows x 5 columns]"
            ]
          },
          "metadata": {
            "tags": []
          },
          "execution_count": 13
        }
      ]
    },
    {
      "cell_type": "code",
      "metadata": {
        "colab": {
          "base_uri": "https://localhost:8080/",
          "height": 136
        },
        "id": "Y7OaX5PiFsZF",
        "outputId": "e95b2cc2-5bbd-48a0-dce4-d4c6abb10995"
      },
      "source": [
        "df[2:5]"
      ],
      "execution_count": 14,
      "outputs": [
        {
          "output_type": "execute_result",
          "data": {
            "text/html": [
              "<div>\n",
              "<style scoped>\n",
              "    .dataframe tbody tr th:only-of-type {\n",
              "        vertical-align: middle;\n",
              "    }\n",
              "\n",
              "    .dataframe tbody tr th {\n",
              "        vertical-align: top;\n",
              "    }\n",
              "\n",
              "    .dataframe thead th {\n",
              "        text-align: right;\n",
              "    }\n",
              "</style>\n",
              "<table border=\"1\" class=\"dataframe\">\n",
              "  <thead>\n",
              "    <tr style=\"text-align: right;\">\n",
              "      <th></th>\n",
              "      <th>Series reference</th>\n",
              "      <th>Description</th>\n",
              "      <th>Period</th>\n",
              "      <th>Previously published</th>\n",
              "      <th>Revised</th>\n",
              "    </tr>\n",
              "  </thead>\n",
              "  <tbody>\n",
              "    <tr>\n",
              "      <th>2</th>\n",
              "      <td>PPIQ.SQUC76745</td>\n",
              "      <td>PPI published output commodity - Transport sup...</td>\n",
              "      <td>2020.06</td>\n",
              "      <td>1400</td>\n",
              "      <td>1603</td>\n",
              "    </tr>\n",
              "    <tr>\n",
              "      <th>3</th>\n",
              "      <td>PPIQ.SQUCC3100</td>\n",
              "      <td>PPI output index level 3 - Wood product manufa...</td>\n",
              "      <td>2020.06</td>\n",
              "      <td>1169</td>\n",
              "      <td>1170</td>\n",
              "    </tr>\n",
              "    <tr>\n",
              "      <th>4</th>\n",
              "      <td>PPIQ.SQUCC3110</td>\n",
              "      <td>PPI output index level 4 - Wood product manufa...</td>\n",
              "      <td>2020.06</td>\n",
              "      <td>1169</td>\n",
              "      <td>1170</td>\n",
              "    </tr>\n",
              "  </tbody>\n",
              "</table>\n",
              "</div>"
            ],
            "text/plain": [
              "  Series reference  ... Revised\n",
              "2   PPIQ.SQUC76745  ...    1603\n",
              "3   PPIQ.SQUCC3100  ...    1170\n",
              "4   PPIQ.SQUCC3110  ...    1170\n",
              "\n",
              "[3 rows x 5 columns]"
            ]
          },
          "metadata": {
            "tags": []
          },
          "execution_count": 14
        }
      ]
    },
    {
      "cell_type": "code",
      "metadata": {
        "colab": {
          "base_uri": "https://localhost:8080/",
          "height": 402
        },
        "id": "21ycDg71Fwgg",
        "outputId": "be8fba61-62ac-4455-e752-9f131fee3fa5"
      },
      "source": [
        "df[:]"
      ],
      "execution_count": 15,
      "outputs": [
        {
          "output_type": "execute_result",
          "data": {
            "text/html": [
              "<div>\n",
              "<style scoped>\n",
              "    .dataframe tbody tr th:only-of-type {\n",
              "        vertical-align: middle;\n",
              "    }\n",
              "\n",
              "    .dataframe tbody tr th {\n",
              "        vertical-align: top;\n",
              "    }\n",
              "\n",
              "    .dataframe thead th {\n",
              "        text-align: right;\n",
              "    }\n",
              "</style>\n",
              "<table border=\"1\" class=\"dataframe\">\n",
              "  <thead>\n",
              "    <tr style=\"text-align: right;\">\n",
              "      <th></th>\n",
              "      <th>Series reference</th>\n",
              "      <th>Description</th>\n",
              "      <th>Period</th>\n",
              "      <th>Previously published</th>\n",
              "      <th>Revised</th>\n",
              "    </tr>\n",
              "  </thead>\n",
              "  <tbody>\n",
              "    <tr>\n",
              "      <th>0</th>\n",
              "      <td>PPIQ.SQU900000</td>\n",
              "      <td>PPI output index - All industries</td>\n",
              "      <td>2020.06</td>\n",
              "      <td>1183</td>\n",
              "      <td>1184</td>\n",
              "    </tr>\n",
              "    <tr>\n",
              "      <th>1</th>\n",
              "      <td>PPIQ.SQU900001</td>\n",
              "      <td>PPI output index - All industries excl OOD</td>\n",
              "      <td>2020.06</td>\n",
              "      <td>1180</td>\n",
              "      <td>1181</td>\n",
              "    </tr>\n",
              "    <tr>\n",
              "      <th>2</th>\n",
              "      <td>PPIQ.SQUC76745</td>\n",
              "      <td>PPI published output commodity - Transport sup...</td>\n",
              "      <td>2020.06</td>\n",
              "      <td>1400</td>\n",
              "      <td>1603</td>\n",
              "    </tr>\n",
              "    <tr>\n",
              "      <th>3</th>\n",
              "      <td>PPIQ.SQUCC3100</td>\n",
              "      <td>PPI output index level 3 - Wood product manufa...</td>\n",
              "      <td>2020.06</td>\n",
              "      <td>1169</td>\n",
              "      <td>1170</td>\n",
              "    </tr>\n",
              "    <tr>\n",
              "      <th>4</th>\n",
              "      <td>PPIQ.SQUCC3110</td>\n",
              "      <td>PPI output index level 4 - Wood product manufa...</td>\n",
              "      <td>2020.06</td>\n",
              "      <td>1169</td>\n",
              "      <td>1170</td>\n",
              "    </tr>\n",
              "    <tr>\n",
              "      <th>...</th>\n",
              "      <td>...</td>\n",
              "      <td>...</td>\n",
              "      <td>...</td>\n",
              "      <td>...</td>\n",
              "      <td>...</td>\n",
              "    </tr>\n",
              "    <tr>\n",
              "      <th>73</th>\n",
              "      <td>PPIQ.SQNMN2100</td>\n",
              "      <td>PPI input index level 3 - Administrative and s...</td>\n",
              "      <td>2020.06</td>\n",
              "      <td>1194</td>\n",
              "      <td>1195</td>\n",
              "    </tr>\n",
              "    <tr>\n",
              "      <th>74</th>\n",
              "      <td>PPIQ.SQNRS211X</td>\n",
              "      <td>PPI input index level 4 - Repair &amp; maintenance</td>\n",
              "      <td>2020.06</td>\n",
              "      <td>1126</td>\n",
              "      <td>1127</td>\n",
              "    </tr>\n",
              "    <tr>\n",
              "      <th>75</th>\n",
              "      <td>FPIQ.SEC14</td>\n",
              "      <td>Farm expenses price index - Dairy farms - Freight</td>\n",
              "      <td>2020.06</td>\n",
              "      <td>1102</td>\n",
              "      <td>1120</td>\n",
              "    </tr>\n",
              "    <tr>\n",
              "      <th>76</th>\n",
              "      <td>FPIQ.SEC99</td>\n",
              "      <td>Farm expenses price index - Dairy farms - All ...</td>\n",
              "      <td>2020.06</td>\n",
              "      <td>1067</td>\n",
              "      <td>1068</td>\n",
              "    </tr>\n",
              "    <tr>\n",
              "      <th>77</th>\n",
              "      <td>FPIQ.SEH14</td>\n",
              "      <td>Farm expenses price index - All farms - Freight</td>\n",
              "      <td>2020.06</td>\n",
              "      <td>1102</td>\n",
              "      <td>1110</td>\n",
              "    </tr>\n",
              "  </tbody>\n",
              "</table>\n",
              "<p>78 rows × 5 columns</p>\n",
              "</div>"
            ],
            "text/plain": [
              "   Series reference  ... Revised\n",
              "0    PPIQ.SQU900000  ...    1184\n",
              "1    PPIQ.SQU900001  ...    1181\n",
              "2    PPIQ.SQUC76745  ...    1603\n",
              "3    PPIQ.SQUCC3100  ...    1170\n",
              "4    PPIQ.SQUCC3110  ...    1170\n",
              "..              ...  ...     ...\n",
              "73   PPIQ.SQNMN2100  ...    1195\n",
              "74   PPIQ.SQNRS211X  ...    1127\n",
              "75       FPIQ.SEC14  ...    1120\n",
              "76       FPIQ.SEC99  ...    1068\n",
              "77       FPIQ.SEH14  ...    1110\n",
              "\n",
              "[78 rows x 5 columns]"
            ]
          },
          "metadata": {
            "tags": []
          },
          "execution_count": 15
        }
      ]
    },
    {
      "cell_type": "code",
      "metadata": {
        "colab": {
          "base_uri": "https://localhost:8080/"
        },
        "id": "wIYfuhcQFzHg",
        "outputId": "6d071a47-dcf4-42e5-8456-0cb9bfa25f68"
      },
      "source": [
        "df.columns"
      ],
      "execution_count": 16,
      "outputs": [
        {
          "output_type": "execute_result",
          "data": {
            "text/plain": [
              "Index(['Series reference', 'Description', 'Period', 'Previously published',\n",
              "       'Revised'],\n",
              "      dtype='object')"
            ]
          },
          "metadata": {
            "tags": []
          },
          "execution_count": 16
        }
      ]
    },
    {
      "cell_type": "code",
      "metadata": {
        "colab": {
          "base_uri": "https://localhost:8080/",
          "height": 296
        },
        "id": "MKlAVQ1LF2bz",
        "outputId": "70f1e483-dc14-4c29-9327-14c076d4bb37"
      },
      "source": [
        "\r\n",
        "df.price"
      ],
      "execution_count": 17,
      "outputs": [
        {
          "output_type": "error",
          "ename": "AttributeError",
          "evalue": "ignored",
          "traceback": [
            "\u001b[0;31m---------------------------------------------------------------------------\u001b[0m",
            "\u001b[0;31mAttributeError\u001b[0m                            Traceback (most recent call last)",
            "\u001b[0;32m<ipython-input-17-a0675efb298a>\u001b[0m in \u001b[0;36m<module>\u001b[0;34m()\u001b[0m\n\u001b[1;32m      1\u001b[0m \u001b[0;34m\u001b[0m\u001b[0m\n\u001b[0;32m----> 2\u001b[0;31m \u001b[0mdf\u001b[0m\u001b[0;34m.\u001b[0m\u001b[0mprice\u001b[0m\u001b[0;34m\u001b[0m\u001b[0;34m\u001b[0m\u001b[0m\n\u001b[0m",
            "\u001b[0;32m/usr/local/lib/python3.6/dist-packages/pandas/core/generic.py\u001b[0m in \u001b[0;36m__getattr__\u001b[0;34m(self, name)\u001b[0m\n\u001b[1;32m   5139\u001b[0m             \u001b[0;32mif\u001b[0m \u001b[0mself\u001b[0m\u001b[0;34m.\u001b[0m\u001b[0m_info_axis\u001b[0m\u001b[0;34m.\u001b[0m\u001b[0m_can_hold_identifiers_and_holds_name\u001b[0m\u001b[0;34m(\u001b[0m\u001b[0mname\u001b[0m\u001b[0;34m)\u001b[0m\u001b[0;34m:\u001b[0m\u001b[0;34m\u001b[0m\u001b[0;34m\u001b[0m\u001b[0m\n\u001b[1;32m   5140\u001b[0m                 \u001b[0;32mreturn\u001b[0m \u001b[0mself\u001b[0m\u001b[0;34m[\u001b[0m\u001b[0mname\u001b[0m\u001b[0;34m]\u001b[0m\u001b[0;34m\u001b[0m\u001b[0;34m\u001b[0m\u001b[0m\n\u001b[0;32m-> 5141\u001b[0;31m             \u001b[0;32mreturn\u001b[0m \u001b[0mobject\u001b[0m\u001b[0;34m.\u001b[0m\u001b[0m__getattribute__\u001b[0m\u001b[0;34m(\u001b[0m\u001b[0mself\u001b[0m\u001b[0;34m,\u001b[0m \u001b[0mname\u001b[0m\u001b[0;34m)\u001b[0m\u001b[0;34m\u001b[0m\u001b[0;34m\u001b[0m\u001b[0m\n\u001b[0m\u001b[1;32m   5142\u001b[0m \u001b[0;34m\u001b[0m\u001b[0m\n\u001b[1;32m   5143\u001b[0m     \u001b[0;32mdef\u001b[0m \u001b[0m__setattr__\u001b[0m\u001b[0;34m(\u001b[0m\u001b[0mself\u001b[0m\u001b[0;34m,\u001b[0m \u001b[0mname\u001b[0m\u001b[0;34m:\u001b[0m \u001b[0mstr\u001b[0m\u001b[0;34m,\u001b[0m \u001b[0mvalue\u001b[0m\u001b[0;34m)\u001b[0m \u001b[0;34m->\u001b[0m \u001b[0;32mNone\u001b[0m\u001b[0;34m:\u001b[0m\u001b[0;34m\u001b[0m\u001b[0;34m\u001b[0m\u001b[0m\n",
            "\u001b[0;31mAttributeError\u001b[0m: 'DataFrame' object has no attribute 'price'"
          ]
        }
      ]
    },
    {
      "cell_type": "code",
      "metadata": {
        "colab": {
          "base_uri": "https://localhost:8080/"
        },
        "id": "03yVgx_ZF8M2",
        "outputId": "61bea37e-4982-4d69-c04d-bd7f6f832177"
      },
      "source": [
        "df.Description"
      ],
      "execution_count": 18,
      "outputs": [
        {
          "output_type": "execute_result",
          "data": {
            "text/plain": [
              "0                    PPI output index - All industries \n",
              "1            PPI output index - All industries excl OOD\n",
              "2     PPI published output commodity - Transport sup...\n",
              "3     PPI output index level 3 - Wood product manufa...\n",
              "4     PPI output index level 4 - Wood product manufa...\n",
              "                            ...                        \n",
              "73    PPI input index level 3 - Administrative and s...\n",
              "74       PPI input index level 4 - Repair & maintenance\n",
              "75    Farm expenses price index - Dairy farms - Freight\n",
              "76    Farm expenses price index - Dairy farms - All ...\n",
              "77      Farm expenses price index - All farms - Freight\n",
              "Name: Description, Length: 78, dtype: object"
            ]
          },
          "metadata": {
            "tags": []
          },
          "execution_count": 18
        }
      ]
    },
    {
      "cell_type": "code",
      "metadata": {
        "colab": {
          "base_uri": "https://localhost:8080/",
          "height": 555
        },
        "id": "RWFbL2otF-5N",
        "outputId": "ab2c5fde-3ffe-4300-c0e2-3ef4c47b4858"
      },
      "source": [
        "df['description']"
      ],
      "execution_count": 19,
      "outputs": [
        {
          "output_type": "error",
          "ename": "KeyError",
          "evalue": "ignored",
          "traceback": [
            "\u001b[0;31m---------------------------------------------------------------------------\u001b[0m",
            "\u001b[0;31mKeyError\u001b[0m                                  Traceback (most recent call last)",
            "\u001b[0;32m/usr/local/lib/python3.6/dist-packages/pandas/core/indexes/base.py\u001b[0m in \u001b[0;36mget_loc\u001b[0;34m(self, key, method, tolerance)\u001b[0m\n\u001b[1;32m   2897\u001b[0m             \u001b[0;32mtry\u001b[0m\u001b[0;34m:\u001b[0m\u001b[0;34m\u001b[0m\u001b[0;34m\u001b[0m\u001b[0m\n\u001b[0;32m-> 2898\u001b[0;31m                 \u001b[0;32mreturn\u001b[0m \u001b[0mself\u001b[0m\u001b[0;34m.\u001b[0m\u001b[0m_engine\u001b[0m\u001b[0;34m.\u001b[0m\u001b[0mget_loc\u001b[0m\u001b[0;34m(\u001b[0m\u001b[0mcasted_key\u001b[0m\u001b[0;34m)\u001b[0m\u001b[0;34m\u001b[0m\u001b[0;34m\u001b[0m\u001b[0m\n\u001b[0m\u001b[1;32m   2899\u001b[0m             \u001b[0;32mexcept\u001b[0m \u001b[0mKeyError\u001b[0m \u001b[0;32mas\u001b[0m \u001b[0merr\u001b[0m\u001b[0;34m:\u001b[0m\u001b[0;34m\u001b[0m\u001b[0;34m\u001b[0m\u001b[0m\n",
            "\u001b[0;32mpandas/_libs/index.pyx\u001b[0m in \u001b[0;36mpandas._libs.index.IndexEngine.get_loc\u001b[0;34m()\u001b[0m\n",
            "\u001b[0;32mpandas/_libs/index.pyx\u001b[0m in \u001b[0;36mpandas._libs.index.IndexEngine.get_loc\u001b[0;34m()\u001b[0m\n",
            "\u001b[0;32mpandas/_libs/hashtable_class_helper.pxi\u001b[0m in \u001b[0;36mpandas._libs.hashtable.PyObjectHashTable.get_item\u001b[0;34m()\u001b[0m\n",
            "\u001b[0;32mpandas/_libs/hashtable_class_helper.pxi\u001b[0m in \u001b[0;36mpandas._libs.hashtable.PyObjectHashTable.get_item\u001b[0;34m()\u001b[0m\n",
            "\u001b[0;31mKeyError\u001b[0m: 'description'",
            "\nThe above exception was the direct cause of the following exception:\n",
            "\u001b[0;31mKeyError\u001b[0m                                  Traceback (most recent call last)",
            "\u001b[0;32m<ipython-input-19-07a83523c62c>\u001b[0m in \u001b[0;36m<module>\u001b[0;34m()\u001b[0m\n\u001b[0;32m----> 1\u001b[0;31m \u001b[0mdf\u001b[0m\u001b[0;34m[\u001b[0m\u001b[0;34m'description'\u001b[0m\u001b[0;34m]\u001b[0m\u001b[0;34m\u001b[0m\u001b[0;34m\u001b[0m\u001b[0m\n\u001b[0m",
            "\u001b[0;32m/usr/local/lib/python3.6/dist-packages/pandas/core/frame.py\u001b[0m in \u001b[0;36m__getitem__\u001b[0;34m(self, key)\u001b[0m\n\u001b[1;32m   2904\u001b[0m             \u001b[0;32mif\u001b[0m \u001b[0mself\u001b[0m\u001b[0;34m.\u001b[0m\u001b[0mcolumns\u001b[0m\u001b[0;34m.\u001b[0m\u001b[0mnlevels\u001b[0m \u001b[0;34m>\u001b[0m \u001b[0;36m1\u001b[0m\u001b[0;34m:\u001b[0m\u001b[0;34m\u001b[0m\u001b[0;34m\u001b[0m\u001b[0m\n\u001b[1;32m   2905\u001b[0m                 \u001b[0;32mreturn\u001b[0m \u001b[0mself\u001b[0m\u001b[0;34m.\u001b[0m\u001b[0m_getitem_multilevel\u001b[0m\u001b[0;34m(\u001b[0m\u001b[0mkey\u001b[0m\u001b[0;34m)\u001b[0m\u001b[0;34m\u001b[0m\u001b[0;34m\u001b[0m\u001b[0m\n\u001b[0;32m-> 2906\u001b[0;31m             \u001b[0mindexer\u001b[0m \u001b[0;34m=\u001b[0m \u001b[0mself\u001b[0m\u001b[0;34m.\u001b[0m\u001b[0mcolumns\u001b[0m\u001b[0;34m.\u001b[0m\u001b[0mget_loc\u001b[0m\u001b[0;34m(\u001b[0m\u001b[0mkey\u001b[0m\u001b[0;34m)\u001b[0m\u001b[0;34m\u001b[0m\u001b[0;34m\u001b[0m\u001b[0m\n\u001b[0m\u001b[1;32m   2907\u001b[0m             \u001b[0;32mif\u001b[0m \u001b[0mis_integer\u001b[0m\u001b[0;34m(\u001b[0m\u001b[0mindexer\u001b[0m\u001b[0;34m)\u001b[0m\u001b[0;34m:\u001b[0m\u001b[0;34m\u001b[0m\u001b[0;34m\u001b[0m\u001b[0m\n\u001b[1;32m   2908\u001b[0m                 \u001b[0mindexer\u001b[0m \u001b[0;34m=\u001b[0m \u001b[0;34m[\u001b[0m\u001b[0mindexer\u001b[0m\u001b[0;34m]\u001b[0m\u001b[0;34m\u001b[0m\u001b[0;34m\u001b[0m\u001b[0m\n",
            "\u001b[0;32m/usr/local/lib/python3.6/dist-packages/pandas/core/indexes/base.py\u001b[0m in \u001b[0;36mget_loc\u001b[0;34m(self, key, method, tolerance)\u001b[0m\n\u001b[1;32m   2898\u001b[0m                 \u001b[0;32mreturn\u001b[0m \u001b[0mself\u001b[0m\u001b[0;34m.\u001b[0m\u001b[0m_engine\u001b[0m\u001b[0;34m.\u001b[0m\u001b[0mget_loc\u001b[0m\u001b[0;34m(\u001b[0m\u001b[0mcasted_key\u001b[0m\u001b[0;34m)\u001b[0m\u001b[0;34m\u001b[0m\u001b[0;34m\u001b[0m\u001b[0m\n\u001b[1;32m   2899\u001b[0m             \u001b[0;32mexcept\u001b[0m \u001b[0mKeyError\u001b[0m \u001b[0;32mas\u001b[0m \u001b[0merr\u001b[0m\u001b[0;34m:\u001b[0m\u001b[0;34m\u001b[0m\u001b[0;34m\u001b[0m\u001b[0m\n\u001b[0;32m-> 2900\u001b[0;31m                 \u001b[0;32mraise\u001b[0m \u001b[0mKeyError\u001b[0m\u001b[0;34m(\u001b[0m\u001b[0mkey\u001b[0m\u001b[0;34m)\u001b[0m \u001b[0;32mfrom\u001b[0m \u001b[0merr\u001b[0m\u001b[0;34m\u001b[0m\u001b[0;34m\u001b[0m\u001b[0m\n\u001b[0m\u001b[1;32m   2901\u001b[0m \u001b[0;34m\u001b[0m\u001b[0m\n\u001b[1;32m   2902\u001b[0m         \u001b[0;32mif\u001b[0m \u001b[0mtolerance\u001b[0m \u001b[0;32mis\u001b[0m \u001b[0;32mnot\u001b[0m \u001b[0;32mNone\u001b[0m\u001b[0;34m:\u001b[0m\u001b[0;34m\u001b[0m\u001b[0;34m\u001b[0m\u001b[0m\n",
            "\u001b[0;31mKeyError\u001b[0m: 'description'"
          ]
        }
      ]
    },
    {
      "cell_type": "code",
      "metadata": {
        "colab": {
          "base_uri": "https://localhost:8080/",
          "height": 128
        },
        "id": "JmgFMYwzGDgu",
        "outputId": "12c310c5-fa50-4f28-992e-2a2ab3714f94"
      },
      "source": [
        "df['Description'']"
      ],
      "execution_count": 20,
      "outputs": [
        {
          "output_type": "error",
          "ename": "SyntaxError",
          "evalue": "ignored",
          "traceback": [
            "\u001b[0;36m  File \u001b[0;32m\"<ipython-input-20-eab33750853e>\"\u001b[0;36m, line \u001b[0;32m1\u001b[0m\n\u001b[0;31m    df['Description'']\u001b[0m\n\u001b[0m                      ^\u001b[0m\n\u001b[0;31mSyntaxError\u001b[0m\u001b[0;31m:\u001b[0m EOL while scanning string literal\n"
          ]
        }
      ]
    },
    {
      "cell_type": "code",
      "metadata": {
        "colab": {
          "base_uri": "https://localhost:8080/"
        },
        "id": "AjuN04igGKYF",
        "outputId": "bc9f3d0e-fde2-4caf-e78e-dbf757a8397a"
      },
      "source": [
        "df['Description']"
      ],
      "execution_count": 21,
      "outputs": [
        {
          "output_type": "execute_result",
          "data": {
            "text/plain": [
              "0                    PPI output index - All industries \n",
              "1            PPI output index - All industries excl OOD\n",
              "2     PPI published output commodity - Transport sup...\n",
              "3     PPI output index level 3 - Wood product manufa...\n",
              "4     PPI output index level 4 - Wood product manufa...\n",
              "                            ...                        \n",
              "73    PPI input index level 3 - Administrative and s...\n",
              "74       PPI input index level 4 - Repair & maintenance\n",
              "75    Farm expenses price index - Dairy farms - Freight\n",
              "76    Farm expenses price index - Dairy farms - All ...\n",
              "77      Farm expenses price index - All farms - Freight\n",
              "Name: Description, Length: 78, dtype: object"
            ]
          },
          "metadata": {
            "tags": []
          },
          "execution_count": 21
        }
      ]
    },
    {
      "cell_type": "code",
      "metadata": {
        "colab": {
          "base_uri": "https://localhost:8080/",
          "height": 555
        },
        "id": "cLjk7Lp6GOmV",
        "outputId": "f5a03015-d857-4675-ea0d-ff7db8bee44e"
      },
      "source": [
        "df['Description','Period']"
      ],
      "execution_count": 22,
      "outputs": [
        {
          "output_type": "error",
          "ename": "KeyError",
          "evalue": "ignored",
          "traceback": [
            "\u001b[0;31m---------------------------------------------------------------------------\u001b[0m",
            "\u001b[0;31mKeyError\u001b[0m                                  Traceback (most recent call last)",
            "\u001b[0;32m/usr/local/lib/python3.6/dist-packages/pandas/core/indexes/base.py\u001b[0m in \u001b[0;36mget_loc\u001b[0;34m(self, key, method, tolerance)\u001b[0m\n\u001b[1;32m   2897\u001b[0m             \u001b[0;32mtry\u001b[0m\u001b[0;34m:\u001b[0m\u001b[0;34m\u001b[0m\u001b[0;34m\u001b[0m\u001b[0m\n\u001b[0;32m-> 2898\u001b[0;31m                 \u001b[0;32mreturn\u001b[0m \u001b[0mself\u001b[0m\u001b[0;34m.\u001b[0m\u001b[0m_engine\u001b[0m\u001b[0;34m.\u001b[0m\u001b[0mget_loc\u001b[0m\u001b[0;34m(\u001b[0m\u001b[0mcasted_key\u001b[0m\u001b[0;34m)\u001b[0m\u001b[0;34m\u001b[0m\u001b[0;34m\u001b[0m\u001b[0m\n\u001b[0m\u001b[1;32m   2899\u001b[0m             \u001b[0;32mexcept\u001b[0m \u001b[0mKeyError\u001b[0m \u001b[0;32mas\u001b[0m \u001b[0merr\u001b[0m\u001b[0;34m:\u001b[0m\u001b[0;34m\u001b[0m\u001b[0;34m\u001b[0m\u001b[0m\n",
            "\u001b[0;32mpandas/_libs/index.pyx\u001b[0m in \u001b[0;36mpandas._libs.index.IndexEngine.get_loc\u001b[0;34m()\u001b[0m\n",
            "\u001b[0;32mpandas/_libs/index.pyx\u001b[0m in \u001b[0;36mpandas._libs.index.IndexEngine.get_loc\u001b[0;34m()\u001b[0m\n",
            "\u001b[0;32mpandas/_libs/hashtable_class_helper.pxi\u001b[0m in \u001b[0;36mpandas._libs.hashtable.PyObjectHashTable.get_item\u001b[0;34m()\u001b[0m\n",
            "\u001b[0;32mpandas/_libs/hashtable_class_helper.pxi\u001b[0m in \u001b[0;36mpandas._libs.hashtable.PyObjectHashTable.get_item\u001b[0;34m()\u001b[0m\n",
            "\u001b[0;31mKeyError\u001b[0m: ('Description', 'Period')",
            "\nThe above exception was the direct cause of the following exception:\n",
            "\u001b[0;31mKeyError\u001b[0m                                  Traceback (most recent call last)",
            "\u001b[0;32m<ipython-input-22-a599471fcb88>\u001b[0m in \u001b[0;36m<module>\u001b[0;34m()\u001b[0m\n\u001b[0;32m----> 1\u001b[0;31m \u001b[0mdf\u001b[0m\u001b[0;34m[\u001b[0m\u001b[0;34m'Description'\u001b[0m\u001b[0;34m,\u001b[0m\u001b[0;34m'Period'\u001b[0m\u001b[0;34m]\u001b[0m\u001b[0;34m\u001b[0m\u001b[0;34m\u001b[0m\u001b[0m\n\u001b[0m",
            "\u001b[0;32m/usr/local/lib/python3.6/dist-packages/pandas/core/frame.py\u001b[0m in \u001b[0;36m__getitem__\u001b[0;34m(self, key)\u001b[0m\n\u001b[1;32m   2904\u001b[0m             \u001b[0;32mif\u001b[0m \u001b[0mself\u001b[0m\u001b[0;34m.\u001b[0m\u001b[0mcolumns\u001b[0m\u001b[0;34m.\u001b[0m\u001b[0mnlevels\u001b[0m \u001b[0;34m>\u001b[0m \u001b[0;36m1\u001b[0m\u001b[0;34m:\u001b[0m\u001b[0;34m\u001b[0m\u001b[0;34m\u001b[0m\u001b[0m\n\u001b[1;32m   2905\u001b[0m                 \u001b[0;32mreturn\u001b[0m \u001b[0mself\u001b[0m\u001b[0;34m.\u001b[0m\u001b[0m_getitem_multilevel\u001b[0m\u001b[0;34m(\u001b[0m\u001b[0mkey\u001b[0m\u001b[0;34m)\u001b[0m\u001b[0;34m\u001b[0m\u001b[0;34m\u001b[0m\u001b[0m\n\u001b[0;32m-> 2906\u001b[0;31m             \u001b[0mindexer\u001b[0m \u001b[0;34m=\u001b[0m \u001b[0mself\u001b[0m\u001b[0;34m.\u001b[0m\u001b[0mcolumns\u001b[0m\u001b[0;34m.\u001b[0m\u001b[0mget_loc\u001b[0m\u001b[0;34m(\u001b[0m\u001b[0mkey\u001b[0m\u001b[0;34m)\u001b[0m\u001b[0;34m\u001b[0m\u001b[0;34m\u001b[0m\u001b[0m\n\u001b[0m\u001b[1;32m   2907\u001b[0m             \u001b[0;32mif\u001b[0m \u001b[0mis_integer\u001b[0m\u001b[0;34m(\u001b[0m\u001b[0mindexer\u001b[0m\u001b[0;34m)\u001b[0m\u001b[0;34m:\u001b[0m\u001b[0;34m\u001b[0m\u001b[0;34m\u001b[0m\u001b[0m\n\u001b[1;32m   2908\u001b[0m                 \u001b[0mindexer\u001b[0m \u001b[0;34m=\u001b[0m \u001b[0;34m[\u001b[0m\u001b[0mindexer\u001b[0m\u001b[0;34m]\u001b[0m\u001b[0;34m\u001b[0m\u001b[0;34m\u001b[0m\u001b[0m\n",
            "\u001b[0;32m/usr/local/lib/python3.6/dist-packages/pandas/core/indexes/base.py\u001b[0m in \u001b[0;36mget_loc\u001b[0;34m(self, key, method, tolerance)\u001b[0m\n\u001b[1;32m   2898\u001b[0m                 \u001b[0;32mreturn\u001b[0m \u001b[0mself\u001b[0m\u001b[0;34m.\u001b[0m\u001b[0m_engine\u001b[0m\u001b[0;34m.\u001b[0m\u001b[0mget_loc\u001b[0m\u001b[0;34m(\u001b[0m\u001b[0mcasted_key\u001b[0m\u001b[0;34m)\u001b[0m\u001b[0;34m\u001b[0m\u001b[0;34m\u001b[0m\u001b[0m\n\u001b[1;32m   2899\u001b[0m             \u001b[0;32mexcept\u001b[0m \u001b[0mKeyError\u001b[0m \u001b[0;32mas\u001b[0m \u001b[0merr\u001b[0m\u001b[0;34m:\u001b[0m\u001b[0;34m\u001b[0m\u001b[0;34m\u001b[0m\u001b[0m\n\u001b[0;32m-> 2900\u001b[0;31m                 \u001b[0;32mraise\u001b[0m \u001b[0mKeyError\u001b[0m\u001b[0;34m(\u001b[0m\u001b[0mkey\u001b[0m\u001b[0;34m)\u001b[0m \u001b[0;32mfrom\u001b[0m \u001b[0merr\u001b[0m\u001b[0;34m\u001b[0m\u001b[0;34m\u001b[0m\u001b[0m\n\u001b[0m\u001b[1;32m   2901\u001b[0m \u001b[0;34m\u001b[0m\u001b[0m\n\u001b[1;32m   2902\u001b[0m         \u001b[0;32mif\u001b[0m \u001b[0mtolerance\u001b[0m \u001b[0;32mis\u001b[0m \u001b[0;32mnot\u001b[0m \u001b[0;32mNone\u001b[0m\u001b[0;34m:\u001b[0m\u001b[0;34m\u001b[0m\u001b[0;34m\u001b[0m\u001b[0m\n",
            "\u001b[0;31mKeyError\u001b[0m: ('Description', 'Period')"
          ]
        }
      ]
    },
    {
      "cell_type": "code",
      "metadata": {
        "colab": {
          "base_uri": "https://localhost:8080/",
          "height": 35
        },
        "id": "mRFnPK1GGV7o",
        "outputId": "e9a86b50-bfad-4bea-ca17-368caf37930c"
      },
      "source": [
        "df['Description'].min()"
      ],
      "execution_count": 23,
      "outputs": [
        {
          "output_type": "execute_result",
          "data": {
            "application/vnd.google.colaboratory.intrinsic+json": {
              "type": "string"
            },
            "text/plain": [
              "'Farm expenses price index - All farms - Freight'"
            ]
          },
          "metadata": {
            "tags": []
          },
          "execution_count": 23
        }
      ]
    },
    {
      "cell_type": "code",
      "metadata": {
        "colab": {
          "base_uri": "https://localhost:8080/",
          "height": 284
        },
        "id": "-uCwssTVGh5f",
        "outputId": "7b4598fd-c497-44d9-86a2-dc2097b3581e"
      },
      "source": [
        "df.describe()"
      ],
      "execution_count": 24,
      "outputs": [
        {
          "output_type": "execute_result",
          "data": {
            "text/html": [
              "<div>\n",
              "<style scoped>\n",
              "    .dataframe tbody tr th:only-of-type {\n",
              "        vertical-align: middle;\n",
              "    }\n",
              "\n",
              "    .dataframe tbody tr th {\n",
              "        vertical-align: top;\n",
              "    }\n",
              "\n",
              "    .dataframe thead th {\n",
              "        text-align: right;\n",
              "    }\n",
              "</style>\n",
              "<table border=\"1\" class=\"dataframe\">\n",
              "  <thead>\n",
              "    <tr style=\"text-align: right;\">\n",
              "      <th></th>\n",
              "      <th>Period</th>\n",
              "      <th>Previously published</th>\n",
              "      <th>Revised</th>\n",
              "    </tr>\n",
              "  </thead>\n",
              "  <tbody>\n",
              "    <tr>\n",
              "      <th>count</th>\n",
              "      <td>7.800000e+01</td>\n",
              "      <td>78.000000</td>\n",
              "      <td>78.000000</td>\n",
              "    </tr>\n",
              "    <tr>\n",
              "      <th>mean</th>\n",
              "      <td>2.020060e+03</td>\n",
              "      <td>1157.256410</td>\n",
              "      <td>1165.589744</td>\n",
              "    </tr>\n",
              "    <tr>\n",
              "      <th>std</th>\n",
              "      <td>1.601918e-12</td>\n",
              "      <td>82.629581</td>\n",
              "      <td>100.669633</td>\n",
              "    </tr>\n",
              "    <tr>\n",
              "      <th>min</th>\n",
              "      <td>2.020060e+03</td>\n",
              "      <td>903.000000</td>\n",
              "      <td>904.000000</td>\n",
              "    </tr>\n",
              "    <tr>\n",
              "      <th>25%</th>\n",
              "      <td>2.020060e+03</td>\n",
              "      <td>1124.500000</td>\n",
              "      <td>1126.250000</td>\n",
              "    </tr>\n",
              "    <tr>\n",
              "      <th>50%</th>\n",
              "      <td>2.020060e+03</td>\n",
              "      <td>1151.500000</td>\n",
              "      <td>1153.000000</td>\n",
              "    </tr>\n",
              "    <tr>\n",
              "      <th>75%</th>\n",
              "      <td>2.020060e+03</td>\n",
              "      <td>1192.750000</td>\n",
              "      <td>1194.250000</td>\n",
              "    </tr>\n",
              "    <tr>\n",
              "      <th>max</th>\n",
              "      <td>2.020060e+03</td>\n",
              "      <td>1415.000000</td>\n",
              "      <td>1603.000000</td>\n",
              "    </tr>\n",
              "  </tbody>\n",
              "</table>\n",
              "</div>"
            ],
            "text/plain": [
              "             Period  Previously published      Revised\n",
              "count  7.800000e+01             78.000000    78.000000\n",
              "mean   2.020060e+03           1157.256410  1165.589744\n",
              "std    1.601918e-12             82.629581   100.669633\n",
              "min    2.020060e+03            903.000000   904.000000\n",
              "25%    2.020060e+03           1124.500000  1126.250000\n",
              "50%    2.020060e+03           1151.500000  1153.000000\n",
              "75%    2.020060e+03           1192.750000  1194.250000\n",
              "max    2.020060e+03           1415.000000  1603.000000"
            ]
          },
          "metadata": {
            "tags": []
          },
          "execution_count": 24
        }
      ]
    },
    {
      "cell_type": "code",
      "metadata": {
        "id": "_M8xBQy3Gr8u"
      },
      "source": [
        "import pandas as pd\r\n",
        "df2=pd.read_csv('/content/Book1.csv')"
      ],
      "execution_count": 2,
      "outputs": []
    },
    {
      "cell_type": "code",
      "metadata": {
        "colab": {
          "base_uri": "https://localhost:8080/",
          "height": 225
        },
        "id": "zk-ATS6THWzR",
        "outputId": "e44963a4-38f3-4ac1-f8dc-a823224adb6e"
      },
      "source": [
        "df2"
      ],
      "execution_count": 3,
      "outputs": [
        {
          "output_type": "execute_result",
          "data": {
            "text/html": [
              "<div>\n",
              "<style scoped>\n",
              "    .dataframe tbody tr th:only-of-type {\n",
              "        vertical-align: middle;\n",
              "    }\n",
              "\n",
              "    .dataframe tbody tr th {\n",
              "        vertical-align: top;\n",
              "    }\n",
              "\n",
              "    .dataframe thead th {\n",
              "        text-align: right;\n",
              "    }\n",
              "</style>\n",
              "<table border=\"1\" class=\"dataframe\">\n",
              "  <thead>\n",
              "    <tr style=\"text-align: right;\">\n",
              "      <th></th>\n",
              "      <th>day</th>\n",
              "      <th>temp</th>\n",
              "      <th>windspeed</th>\n",
              "      <th>event</th>\n",
              "    </tr>\n",
              "  </thead>\n",
              "  <tbody>\n",
              "    <tr>\n",
              "      <th>0</th>\n",
              "      <td>01-01-2017</td>\n",
              "      <td>32</td>\n",
              "      <td>6</td>\n",
              "      <td>rain</td>\n",
              "    </tr>\n",
              "    <tr>\n",
              "      <th>1</th>\n",
              "      <td>01-02-2017</td>\n",
              "      <td>35</td>\n",
              "      <td>7</td>\n",
              "      <td>sunny</td>\n",
              "    </tr>\n",
              "    <tr>\n",
              "      <th>2</th>\n",
              "      <td>01-03-2017</td>\n",
              "      <td>28</td>\n",
              "      <td>2</td>\n",
              "      <td>snow</td>\n",
              "    </tr>\n",
              "    <tr>\n",
              "      <th>3</th>\n",
              "      <td>01-04-2017</td>\n",
              "      <td>24</td>\n",
              "      <td>7</td>\n",
              "      <td>snow</td>\n",
              "    </tr>\n",
              "    <tr>\n",
              "      <th>4</th>\n",
              "      <td>01-05-2017</td>\n",
              "      <td>32</td>\n",
              "      <td>4</td>\n",
              "      <td>rain</td>\n",
              "    </tr>\n",
              "    <tr>\n",
              "      <th>5</th>\n",
              "      <td>01-06-2017</td>\n",
              "      <td>32</td>\n",
              "      <td>2</td>\n",
              "      <td>sunny</td>\n",
              "    </tr>\n",
              "  </tbody>\n",
              "</table>\n",
              "</div>"
            ],
            "text/plain": [
              "          day  temp  windspeed  event\n",
              "0  01-01-2017    32          6   rain\n",
              "1  01-02-2017    35          7  sunny\n",
              "2  01-03-2017    28          2   snow\n",
              "3  01-04-2017    24          7   snow\n",
              "4  01-05-2017    32          4   rain\n",
              "5  01-06-2017    32          2  sunny"
            ]
          },
          "metadata": {
            "tags": []
          },
          "execution_count": 3
        }
      ]
    },
    {
      "cell_type": "code",
      "metadata": {
        "colab": {
          "base_uri": "https://localhost:8080/"
        },
        "id": "zd1tFwp9HYNj",
        "outputId": "567e136c-bba9-4c80-d263-3544b67216a1"
      },
      "source": [
        "df2.describe"
      ],
      "execution_count": 4,
      "outputs": [
        {
          "output_type": "execute_result",
          "data": {
            "text/plain": [
              "<bound method NDFrame.describe of           day  temp  windspeed  event\n",
              "0  01-01-2017    32          6   rain\n",
              "1  01-02-2017    35          7  sunny\n",
              "2  01-03-2017    28          2   snow\n",
              "3  01-04-2017    24          7   snow\n",
              "4  01-05-2017    32          4   rain\n",
              "5  01-06-2017    32          2  sunny>"
            ]
          },
          "metadata": {
            "tags": []
          },
          "execution_count": 4
        }
      ]
    },
    {
      "cell_type": "code",
      "metadata": {
        "colab": {
          "base_uri": "https://localhost:8080/",
          "height": 284
        },
        "id": "IDPggmsTHaf9",
        "outputId": "04f71bcd-9975-41a2-bcd3-6575f68ec1f3"
      },
      "source": [
        "df2.describe()"
      ],
      "execution_count": 5,
      "outputs": [
        {
          "output_type": "execute_result",
          "data": {
            "text/html": [
              "<div>\n",
              "<style scoped>\n",
              "    .dataframe tbody tr th:only-of-type {\n",
              "        vertical-align: middle;\n",
              "    }\n",
              "\n",
              "    .dataframe tbody tr th {\n",
              "        vertical-align: top;\n",
              "    }\n",
              "\n",
              "    .dataframe thead th {\n",
              "        text-align: right;\n",
              "    }\n",
              "</style>\n",
              "<table border=\"1\" class=\"dataframe\">\n",
              "  <thead>\n",
              "    <tr style=\"text-align: right;\">\n",
              "      <th></th>\n",
              "      <th>temp</th>\n",
              "      <th>windspeed</th>\n",
              "    </tr>\n",
              "  </thead>\n",
              "  <tbody>\n",
              "    <tr>\n",
              "      <th>count</th>\n",
              "      <td>6.000000</td>\n",
              "      <td>6.000000</td>\n",
              "    </tr>\n",
              "    <tr>\n",
              "      <th>mean</th>\n",
              "      <td>30.500000</td>\n",
              "      <td>4.666667</td>\n",
              "    </tr>\n",
              "    <tr>\n",
              "      <th>std</th>\n",
              "      <td>3.885872</td>\n",
              "      <td>2.338090</td>\n",
              "    </tr>\n",
              "    <tr>\n",
              "      <th>min</th>\n",
              "      <td>24.000000</td>\n",
              "      <td>2.000000</td>\n",
              "    </tr>\n",
              "    <tr>\n",
              "      <th>25%</th>\n",
              "      <td>29.000000</td>\n",
              "      <td>2.500000</td>\n",
              "    </tr>\n",
              "    <tr>\n",
              "      <th>50%</th>\n",
              "      <td>32.000000</td>\n",
              "      <td>5.000000</td>\n",
              "    </tr>\n",
              "    <tr>\n",
              "      <th>75%</th>\n",
              "      <td>32.000000</td>\n",
              "      <td>6.750000</td>\n",
              "    </tr>\n",
              "    <tr>\n",
              "      <th>max</th>\n",
              "      <td>35.000000</td>\n",
              "      <td>7.000000</td>\n",
              "    </tr>\n",
              "  </tbody>\n",
              "</table>\n",
              "</div>"
            ],
            "text/plain": [
              "            temp  windspeed\n",
              "count   6.000000   6.000000\n",
              "mean   30.500000   4.666667\n",
              "std     3.885872   2.338090\n",
              "min    24.000000   2.000000\n",
              "25%    29.000000   2.500000\n",
              "50%    32.000000   5.000000\n",
              "75%    32.000000   6.750000\n",
              "max    35.000000   7.000000"
            ]
          },
          "metadata": {
            "tags": []
          },
          "execution_count": 5
        }
      ]
    },
    {
      "cell_type": "code",
      "metadata": {
        "colab": {
          "base_uri": "https://localhost:8080/"
        },
        "id": "k8-g95AWHexP",
        "outputId": "03124035-2e6a-402b-e864-bc8ed3d99073"
      },
      "source": [
        "df2.max()"
      ],
      "execution_count": 6,
      "outputs": [
        {
          "output_type": "execute_result",
          "data": {
            "text/plain": [
              "day          01-06-2017\n",
              "temp                 35\n",
              "windspeed             7\n",
              "event             sunny\n",
              "dtype: object"
            ]
          },
          "metadata": {
            "tags": []
          },
          "execution_count": 6
        }
      ]
    },
    {
      "cell_type": "code",
      "metadata": {
        "colab": {
          "base_uri": "https://localhost:8080/",
          "height": 225
        },
        "id": "XwHp9CmmHklR",
        "outputId": "7ca80de4-2bfc-420d-8f7e-1e5d24823a69"
      },
      "source": [
        "df2"
      ],
      "execution_count": 7,
      "outputs": [
        {
          "output_type": "execute_result",
          "data": {
            "text/html": [
              "<div>\n",
              "<style scoped>\n",
              "    .dataframe tbody tr th:only-of-type {\n",
              "        vertical-align: middle;\n",
              "    }\n",
              "\n",
              "    .dataframe tbody tr th {\n",
              "        vertical-align: top;\n",
              "    }\n",
              "\n",
              "    .dataframe thead th {\n",
              "        text-align: right;\n",
              "    }\n",
              "</style>\n",
              "<table border=\"1\" class=\"dataframe\">\n",
              "  <thead>\n",
              "    <tr style=\"text-align: right;\">\n",
              "      <th></th>\n",
              "      <th>day</th>\n",
              "      <th>temp</th>\n",
              "      <th>windspeed</th>\n",
              "      <th>event</th>\n",
              "    </tr>\n",
              "  </thead>\n",
              "  <tbody>\n",
              "    <tr>\n",
              "      <th>0</th>\n",
              "      <td>01-01-2017</td>\n",
              "      <td>32</td>\n",
              "      <td>6</td>\n",
              "      <td>rain</td>\n",
              "    </tr>\n",
              "    <tr>\n",
              "      <th>1</th>\n",
              "      <td>01-02-2017</td>\n",
              "      <td>35</td>\n",
              "      <td>7</td>\n",
              "      <td>sunny</td>\n",
              "    </tr>\n",
              "    <tr>\n",
              "      <th>2</th>\n",
              "      <td>01-03-2017</td>\n",
              "      <td>28</td>\n",
              "      <td>2</td>\n",
              "      <td>snow</td>\n",
              "    </tr>\n",
              "    <tr>\n",
              "      <th>3</th>\n",
              "      <td>01-04-2017</td>\n",
              "      <td>24</td>\n",
              "      <td>7</td>\n",
              "      <td>snow</td>\n",
              "    </tr>\n",
              "    <tr>\n",
              "      <th>4</th>\n",
              "      <td>01-05-2017</td>\n",
              "      <td>32</td>\n",
              "      <td>4</td>\n",
              "      <td>rain</td>\n",
              "    </tr>\n",
              "    <tr>\n",
              "      <th>5</th>\n",
              "      <td>01-06-2017</td>\n",
              "      <td>32</td>\n",
              "      <td>2</td>\n",
              "      <td>sunny</td>\n",
              "    </tr>\n",
              "  </tbody>\n",
              "</table>\n",
              "</div>"
            ],
            "text/plain": [
              "          day  temp  windspeed  event\n",
              "0  01-01-2017    32          6   rain\n",
              "1  01-02-2017    35          7  sunny\n",
              "2  01-03-2017    28          2   snow\n",
              "3  01-04-2017    24          7   snow\n",
              "4  01-05-2017    32          4   rain\n",
              "5  01-06-2017    32          2  sunny"
            ]
          },
          "metadata": {
            "tags": []
          },
          "execution_count": 7
        }
      ]
    },
    {
      "cell_type": "code",
      "metadata": {
        "colab": {
          "base_uri": "https://localhost:8080/",
          "height": 166
        },
        "id": "RiTLvEvoHnJY",
        "outputId": "fd8e35f9-0023-4296-800e-102a90eeed03"
      },
      "source": [
        "df2[df2['temp']>30]"
      ],
      "execution_count": 8,
      "outputs": [
        {
          "output_type": "execute_result",
          "data": {
            "text/html": [
              "<div>\n",
              "<style scoped>\n",
              "    .dataframe tbody tr th:only-of-type {\n",
              "        vertical-align: middle;\n",
              "    }\n",
              "\n",
              "    .dataframe tbody tr th {\n",
              "        vertical-align: top;\n",
              "    }\n",
              "\n",
              "    .dataframe thead th {\n",
              "        text-align: right;\n",
              "    }\n",
              "</style>\n",
              "<table border=\"1\" class=\"dataframe\">\n",
              "  <thead>\n",
              "    <tr style=\"text-align: right;\">\n",
              "      <th></th>\n",
              "      <th>day</th>\n",
              "      <th>temp</th>\n",
              "      <th>windspeed</th>\n",
              "      <th>event</th>\n",
              "    </tr>\n",
              "  </thead>\n",
              "  <tbody>\n",
              "    <tr>\n",
              "      <th>0</th>\n",
              "      <td>01-01-2017</td>\n",
              "      <td>32</td>\n",
              "      <td>6</td>\n",
              "      <td>rain</td>\n",
              "    </tr>\n",
              "    <tr>\n",
              "      <th>1</th>\n",
              "      <td>01-02-2017</td>\n",
              "      <td>35</td>\n",
              "      <td>7</td>\n",
              "      <td>sunny</td>\n",
              "    </tr>\n",
              "    <tr>\n",
              "      <th>4</th>\n",
              "      <td>01-05-2017</td>\n",
              "      <td>32</td>\n",
              "      <td>4</td>\n",
              "      <td>rain</td>\n",
              "    </tr>\n",
              "    <tr>\n",
              "      <th>5</th>\n",
              "      <td>01-06-2017</td>\n",
              "      <td>32</td>\n",
              "      <td>2</td>\n",
              "      <td>sunny</td>\n",
              "    </tr>\n",
              "  </tbody>\n",
              "</table>\n",
              "</div>"
            ],
            "text/plain": [
              "          day  temp  windspeed  event\n",
              "0  01-01-2017    32          6   rain\n",
              "1  01-02-2017    35          7  sunny\n",
              "4  01-05-2017    32          4   rain\n",
              "5  01-06-2017    32          2  sunny"
            ]
          },
          "metadata": {
            "tags": []
          },
          "execution_count": 8
        }
      ]
    },
    {
      "cell_type": "code",
      "metadata": {
        "colab": {
          "base_uri": "https://localhost:8080/",
          "height": 77
        },
        "id": "bR6XnZqaHzQZ",
        "outputId": "2e607c37-2e92-4413-b8cb-2eef70676045"
      },
      "source": [
        "df2[df2.temp==df2['temp'].max()]"
      ],
      "execution_count": 9,
      "outputs": [
        {
          "output_type": "execute_result",
          "data": {
            "text/html": [
              "<div>\n",
              "<style scoped>\n",
              "    .dataframe tbody tr th:only-of-type {\n",
              "        vertical-align: middle;\n",
              "    }\n",
              "\n",
              "    .dataframe tbody tr th {\n",
              "        vertical-align: top;\n",
              "    }\n",
              "\n",
              "    .dataframe thead th {\n",
              "        text-align: right;\n",
              "    }\n",
              "</style>\n",
              "<table border=\"1\" class=\"dataframe\">\n",
              "  <thead>\n",
              "    <tr style=\"text-align: right;\">\n",
              "      <th></th>\n",
              "      <th>day</th>\n",
              "      <th>temp</th>\n",
              "      <th>windspeed</th>\n",
              "      <th>event</th>\n",
              "    </tr>\n",
              "  </thead>\n",
              "  <tbody>\n",
              "    <tr>\n",
              "      <th>1</th>\n",
              "      <td>01-02-2017</td>\n",
              "      <td>35</td>\n",
              "      <td>7</td>\n",
              "      <td>sunny</td>\n",
              "    </tr>\n",
              "  </tbody>\n",
              "</table>\n",
              "</div>"
            ],
            "text/plain": [
              "          day  temp  windspeed  event\n",
              "1  01-02-2017    35          7  sunny"
            ]
          },
          "metadata": {
            "tags": []
          },
          "execution_count": 9
        }
      ]
    },
    {
      "cell_type": "code",
      "metadata": {
        "colab": {
          "base_uri": "https://localhost:8080/"
        },
        "id": "YLXFDbbcrHZl",
        "outputId": "1d75c7d7-d3aa-4e91-c0de-b596cb17a874"
      },
      "source": [
        "df2['day'][df2.temp==df2['temp'].max()]"
      ],
      "execution_count": 10,
      "outputs": [
        {
          "output_type": "execute_result",
          "data": {
            "text/plain": [
              "1    01-02-2017\n",
              "Name: day, dtype: object"
            ]
          },
          "metadata": {
            "tags": []
          },
          "execution_count": 10
        }
      ]
    },
    {
      "cell_type": "code",
      "metadata": {
        "colab": {
          "base_uri": "https://localhost:8080/",
          "height": 77
        },
        "id": "L52BoSiBrYUm",
        "outputId": "42cc9bf0-d724-4f2e-9499-206b93c22eac"
      },
      "source": [
        "df2[['day','temp']][df2.temp==df2['temp'].max()]"
      ],
      "execution_count": 13,
      "outputs": [
        {
          "output_type": "execute_result",
          "data": {
            "text/html": [
              "<div>\n",
              "<style scoped>\n",
              "    .dataframe tbody tr th:only-of-type {\n",
              "        vertical-align: middle;\n",
              "    }\n",
              "\n",
              "    .dataframe tbody tr th {\n",
              "        vertical-align: top;\n",
              "    }\n",
              "\n",
              "    .dataframe thead th {\n",
              "        text-align: right;\n",
              "    }\n",
              "</style>\n",
              "<table border=\"1\" class=\"dataframe\">\n",
              "  <thead>\n",
              "    <tr style=\"text-align: right;\">\n",
              "      <th></th>\n",
              "      <th>day</th>\n",
              "      <th>temp</th>\n",
              "    </tr>\n",
              "  </thead>\n",
              "  <tbody>\n",
              "    <tr>\n",
              "      <th>1</th>\n",
              "      <td>01-02-2017</td>\n",
              "      <td>35</td>\n",
              "    </tr>\n",
              "  </tbody>\n",
              "</table>\n",
              "</div>"
            ],
            "text/plain": [
              "          day  temp\n",
              "1  01-02-2017    35"
            ]
          },
          "metadata": {
            "tags": []
          },
          "execution_count": 13
        }
      ]
    },
    {
      "cell_type": "code",
      "metadata": {
        "colab": {
          "base_uri": "https://localhost:8080/",
          "height": 225
        },
        "id": "LGrZDoTUsN_g",
        "outputId": "9e2778fd-c738-4680-c379-bfed9ae99f24"
      },
      "source": [
        "df2"
      ],
      "execution_count": 14,
      "outputs": [
        {
          "output_type": "execute_result",
          "data": {
            "text/html": [
              "<div>\n",
              "<style scoped>\n",
              "    .dataframe tbody tr th:only-of-type {\n",
              "        vertical-align: middle;\n",
              "    }\n",
              "\n",
              "    .dataframe tbody tr th {\n",
              "        vertical-align: top;\n",
              "    }\n",
              "\n",
              "    .dataframe thead th {\n",
              "        text-align: right;\n",
              "    }\n",
              "</style>\n",
              "<table border=\"1\" class=\"dataframe\">\n",
              "  <thead>\n",
              "    <tr style=\"text-align: right;\">\n",
              "      <th></th>\n",
              "      <th>day</th>\n",
              "      <th>temp</th>\n",
              "      <th>windspeed</th>\n",
              "      <th>event</th>\n",
              "    </tr>\n",
              "  </thead>\n",
              "  <tbody>\n",
              "    <tr>\n",
              "      <th>0</th>\n",
              "      <td>01-01-2017</td>\n",
              "      <td>32</td>\n",
              "      <td>6</td>\n",
              "      <td>rain</td>\n",
              "    </tr>\n",
              "    <tr>\n",
              "      <th>1</th>\n",
              "      <td>01-02-2017</td>\n",
              "      <td>35</td>\n",
              "      <td>7</td>\n",
              "      <td>sunny</td>\n",
              "    </tr>\n",
              "    <tr>\n",
              "      <th>2</th>\n",
              "      <td>01-03-2017</td>\n",
              "      <td>28</td>\n",
              "      <td>2</td>\n",
              "      <td>snow</td>\n",
              "    </tr>\n",
              "    <tr>\n",
              "      <th>3</th>\n",
              "      <td>01-04-2017</td>\n",
              "      <td>24</td>\n",
              "      <td>7</td>\n",
              "      <td>snow</td>\n",
              "    </tr>\n",
              "    <tr>\n",
              "      <th>4</th>\n",
              "      <td>01-05-2017</td>\n",
              "      <td>32</td>\n",
              "      <td>4</td>\n",
              "      <td>rain</td>\n",
              "    </tr>\n",
              "    <tr>\n",
              "      <th>5</th>\n",
              "      <td>01-06-2017</td>\n",
              "      <td>32</td>\n",
              "      <td>2</td>\n",
              "      <td>sunny</td>\n",
              "    </tr>\n",
              "  </tbody>\n",
              "</table>\n",
              "</div>"
            ],
            "text/plain": [
              "          day  temp  windspeed  event\n",
              "0  01-01-2017    32          6   rain\n",
              "1  01-02-2017    35          7  sunny\n",
              "2  01-03-2017    28          2   snow\n",
              "3  01-04-2017    24          7   snow\n",
              "4  01-05-2017    32          4   rain\n",
              "5  01-06-2017    32          2  sunny"
            ]
          },
          "metadata": {
            "tags": []
          },
          "execution_count": 14
        }
      ]
    },
    {
      "cell_type": "code",
      "metadata": {
        "colab": {
          "base_uri": "https://localhost:8080/",
          "height": 254
        },
        "id": "b6s3TMhHwocw",
        "outputId": "94a10ab8-905b-4c27-83ae-d6303ac746f1"
      },
      "source": [
        "df2.set_index('day')"
      ],
      "execution_count": 16,
      "outputs": [
        {
          "output_type": "execute_result",
          "data": {
            "text/html": [
              "<div>\n",
              "<style scoped>\n",
              "    .dataframe tbody tr th:only-of-type {\n",
              "        vertical-align: middle;\n",
              "    }\n",
              "\n",
              "    .dataframe tbody tr th {\n",
              "        vertical-align: top;\n",
              "    }\n",
              "\n",
              "    .dataframe thead th {\n",
              "        text-align: right;\n",
              "    }\n",
              "</style>\n",
              "<table border=\"1\" class=\"dataframe\">\n",
              "  <thead>\n",
              "    <tr style=\"text-align: right;\">\n",
              "      <th></th>\n",
              "      <th>temp</th>\n",
              "      <th>windspeed</th>\n",
              "      <th>event</th>\n",
              "    </tr>\n",
              "    <tr>\n",
              "      <th>day</th>\n",
              "      <th></th>\n",
              "      <th></th>\n",
              "      <th></th>\n",
              "    </tr>\n",
              "  </thead>\n",
              "  <tbody>\n",
              "    <tr>\n",
              "      <th>01-01-2017</th>\n",
              "      <td>32</td>\n",
              "      <td>6</td>\n",
              "      <td>rain</td>\n",
              "    </tr>\n",
              "    <tr>\n",
              "      <th>01-02-2017</th>\n",
              "      <td>35</td>\n",
              "      <td>7</td>\n",
              "      <td>sunny</td>\n",
              "    </tr>\n",
              "    <tr>\n",
              "      <th>01-03-2017</th>\n",
              "      <td>28</td>\n",
              "      <td>2</td>\n",
              "      <td>snow</td>\n",
              "    </tr>\n",
              "    <tr>\n",
              "      <th>01-04-2017</th>\n",
              "      <td>24</td>\n",
              "      <td>7</td>\n",
              "      <td>snow</td>\n",
              "    </tr>\n",
              "    <tr>\n",
              "      <th>01-05-2017</th>\n",
              "      <td>32</td>\n",
              "      <td>4</td>\n",
              "      <td>rain</td>\n",
              "    </tr>\n",
              "    <tr>\n",
              "      <th>01-06-2017</th>\n",
              "      <td>32</td>\n",
              "      <td>2</td>\n",
              "      <td>sunny</td>\n",
              "    </tr>\n",
              "  </tbody>\n",
              "</table>\n",
              "</div>"
            ],
            "text/plain": [
              "            temp  windspeed  event\n",
              "day                               \n",
              "01-01-2017    32          6   rain\n",
              "01-02-2017    35          7  sunny\n",
              "01-03-2017    28          2   snow\n",
              "01-04-2017    24          7   snow\n",
              "01-05-2017    32          4   rain\n",
              "01-06-2017    32          2  sunny"
            ]
          },
          "metadata": {
            "tags": []
          },
          "execution_count": 16
        }
      ]
    },
    {
      "cell_type": "code",
      "metadata": {
        "colab": {
          "base_uri": "https://localhost:8080/",
          "height": 225
        },
        "id": "qsUfw63dwwrp",
        "outputId": "331d0265-1ded-457b-d610-44213389e429"
      },
      "source": [
        "df2"
      ],
      "execution_count": 17,
      "outputs": [
        {
          "output_type": "execute_result",
          "data": {
            "text/html": [
              "<div>\n",
              "<style scoped>\n",
              "    .dataframe tbody tr th:only-of-type {\n",
              "        vertical-align: middle;\n",
              "    }\n",
              "\n",
              "    .dataframe tbody tr th {\n",
              "        vertical-align: top;\n",
              "    }\n",
              "\n",
              "    .dataframe thead th {\n",
              "        text-align: right;\n",
              "    }\n",
              "</style>\n",
              "<table border=\"1\" class=\"dataframe\">\n",
              "  <thead>\n",
              "    <tr style=\"text-align: right;\">\n",
              "      <th></th>\n",
              "      <th>day</th>\n",
              "      <th>temp</th>\n",
              "      <th>windspeed</th>\n",
              "      <th>event</th>\n",
              "    </tr>\n",
              "  </thead>\n",
              "  <tbody>\n",
              "    <tr>\n",
              "      <th>0</th>\n",
              "      <td>01-01-2017</td>\n",
              "      <td>32</td>\n",
              "      <td>6</td>\n",
              "      <td>rain</td>\n",
              "    </tr>\n",
              "    <tr>\n",
              "      <th>1</th>\n",
              "      <td>01-02-2017</td>\n",
              "      <td>35</td>\n",
              "      <td>7</td>\n",
              "      <td>sunny</td>\n",
              "    </tr>\n",
              "    <tr>\n",
              "      <th>2</th>\n",
              "      <td>01-03-2017</td>\n",
              "      <td>28</td>\n",
              "      <td>2</td>\n",
              "      <td>snow</td>\n",
              "    </tr>\n",
              "    <tr>\n",
              "      <th>3</th>\n",
              "      <td>01-04-2017</td>\n",
              "      <td>24</td>\n",
              "      <td>7</td>\n",
              "      <td>snow</td>\n",
              "    </tr>\n",
              "    <tr>\n",
              "      <th>4</th>\n",
              "      <td>01-05-2017</td>\n",
              "      <td>32</td>\n",
              "      <td>4</td>\n",
              "      <td>rain</td>\n",
              "    </tr>\n",
              "    <tr>\n",
              "      <th>5</th>\n",
              "      <td>01-06-2017</td>\n",
              "      <td>32</td>\n",
              "      <td>2</td>\n",
              "      <td>sunny</td>\n",
              "    </tr>\n",
              "  </tbody>\n",
              "</table>\n",
              "</div>"
            ],
            "text/plain": [
              "          day  temp  windspeed  event\n",
              "0  01-01-2017    32          6   rain\n",
              "1  01-02-2017    35          7  sunny\n",
              "2  01-03-2017    28          2   snow\n",
              "3  01-04-2017    24          7   snow\n",
              "4  01-05-2017    32          4   rain\n",
              "5  01-06-2017    32          2  sunny"
            ]
          },
          "metadata": {
            "tags": []
          },
          "execution_count": 17
        }
      ]
    },
    {
      "cell_type": "code",
      "metadata": {
        "id": "o3BSZC7Sw6LX"
      },
      "source": [
        "df2.set_index('day',inplace=True)"
      ],
      "execution_count": 18,
      "outputs": []
    },
    {
      "cell_type": "code",
      "metadata": {
        "colab": {
          "base_uri": "https://localhost:8080/",
          "height": 254
        },
        "id": "gJFZ6u6exBpQ",
        "outputId": "4e325619-97b6-4570-94f4-2da0184ee7ca"
      },
      "source": [
        "df2"
      ],
      "execution_count": 19,
      "outputs": [
        {
          "output_type": "execute_result",
          "data": {
            "text/html": [
              "<div>\n",
              "<style scoped>\n",
              "    .dataframe tbody tr th:only-of-type {\n",
              "        vertical-align: middle;\n",
              "    }\n",
              "\n",
              "    .dataframe tbody tr th {\n",
              "        vertical-align: top;\n",
              "    }\n",
              "\n",
              "    .dataframe thead th {\n",
              "        text-align: right;\n",
              "    }\n",
              "</style>\n",
              "<table border=\"1\" class=\"dataframe\">\n",
              "  <thead>\n",
              "    <tr style=\"text-align: right;\">\n",
              "      <th></th>\n",
              "      <th>temp</th>\n",
              "      <th>windspeed</th>\n",
              "      <th>event</th>\n",
              "    </tr>\n",
              "    <tr>\n",
              "      <th>day</th>\n",
              "      <th></th>\n",
              "      <th></th>\n",
              "      <th></th>\n",
              "    </tr>\n",
              "  </thead>\n",
              "  <tbody>\n",
              "    <tr>\n",
              "      <th>01-01-2017</th>\n",
              "      <td>32</td>\n",
              "      <td>6</td>\n",
              "      <td>rain</td>\n",
              "    </tr>\n",
              "    <tr>\n",
              "      <th>01-02-2017</th>\n",
              "      <td>35</td>\n",
              "      <td>7</td>\n",
              "      <td>sunny</td>\n",
              "    </tr>\n",
              "    <tr>\n",
              "      <th>01-03-2017</th>\n",
              "      <td>28</td>\n",
              "      <td>2</td>\n",
              "      <td>snow</td>\n",
              "    </tr>\n",
              "    <tr>\n",
              "      <th>01-04-2017</th>\n",
              "      <td>24</td>\n",
              "      <td>7</td>\n",
              "      <td>snow</td>\n",
              "    </tr>\n",
              "    <tr>\n",
              "      <th>01-05-2017</th>\n",
              "      <td>32</td>\n",
              "      <td>4</td>\n",
              "      <td>rain</td>\n",
              "    </tr>\n",
              "    <tr>\n",
              "      <th>01-06-2017</th>\n",
              "      <td>32</td>\n",
              "      <td>2</td>\n",
              "      <td>sunny</td>\n",
              "    </tr>\n",
              "  </tbody>\n",
              "</table>\n",
              "</div>"
            ],
            "text/plain": [
              "            temp  windspeed  event\n",
              "day                               \n",
              "01-01-2017    32          6   rain\n",
              "01-02-2017    35          7  sunny\n",
              "01-03-2017    28          2   snow\n",
              "01-04-2017    24          7   snow\n",
              "01-05-2017    32          4   rain\n",
              "01-06-2017    32          2  sunny"
            ]
          },
          "metadata": {
            "tags": []
          },
          "execution_count": 19
        }
      ]
    },
    {
      "cell_type": "code",
      "metadata": {
        "id": "xn_tKg-ZxC18"
      },
      "source": [
        "df2.reset_index(inplace=True)"
      ],
      "execution_count": 20,
      "outputs": []
    },
    {
      "cell_type": "code",
      "metadata": {
        "colab": {
          "base_uri": "https://localhost:8080/",
          "height": 225
        },
        "id": "KT5pt4edxKsm",
        "outputId": "fb760829-3855-4b6a-db83-158ea9a356c9"
      },
      "source": [
        "df2"
      ],
      "execution_count": 21,
      "outputs": [
        {
          "output_type": "execute_result",
          "data": {
            "text/html": [
              "<div>\n",
              "<style scoped>\n",
              "    .dataframe tbody tr th:only-of-type {\n",
              "        vertical-align: middle;\n",
              "    }\n",
              "\n",
              "    .dataframe tbody tr th {\n",
              "        vertical-align: top;\n",
              "    }\n",
              "\n",
              "    .dataframe thead th {\n",
              "        text-align: right;\n",
              "    }\n",
              "</style>\n",
              "<table border=\"1\" class=\"dataframe\">\n",
              "  <thead>\n",
              "    <tr style=\"text-align: right;\">\n",
              "      <th></th>\n",
              "      <th>day</th>\n",
              "      <th>temp</th>\n",
              "      <th>windspeed</th>\n",
              "      <th>event</th>\n",
              "    </tr>\n",
              "  </thead>\n",
              "  <tbody>\n",
              "    <tr>\n",
              "      <th>0</th>\n",
              "      <td>01-01-2017</td>\n",
              "      <td>32</td>\n",
              "      <td>6</td>\n",
              "      <td>rain</td>\n",
              "    </tr>\n",
              "    <tr>\n",
              "      <th>1</th>\n",
              "      <td>01-02-2017</td>\n",
              "      <td>35</td>\n",
              "      <td>7</td>\n",
              "      <td>sunny</td>\n",
              "    </tr>\n",
              "    <tr>\n",
              "      <th>2</th>\n",
              "      <td>01-03-2017</td>\n",
              "      <td>28</td>\n",
              "      <td>2</td>\n",
              "      <td>snow</td>\n",
              "    </tr>\n",
              "    <tr>\n",
              "      <th>3</th>\n",
              "      <td>01-04-2017</td>\n",
              "      <td>24</td>\n",
              "      <td>7</td>\n",
              "      <td>snow</td>\n",
              "    </tr>\n",
              "    <tr>\n",
              "      <th>4</th>\n",
              "      <td>01-05-2017</td>\n",
              "      <td>32</td>\n",
              "      <td>4</td>\n",
              "      <td>rain</td>\n",
              "    </tr>\n",
              "    <tr>\n",
              "      <th>5</th>\n",
              "      <td>01-06-2017</td>\n",
              "      <td>32</td>\n",
              "      <td>2</td>\n",
              "      <td>sunny</td>\n",
              "    </tr>\n",
              "  </tbody>\n",
              "</table>\n",
              "</div>"
            ],
            "text/plain": [
              "          day  temp  windspeed  event\n",
              "0  01-01-2017    32          6   rain\n",
              "1  01-02-2017    35          7  sunny\n",
              "2  01-03-2017    28          2   snow\n",
              "3  01-04-2017    24          7   snow\n",
              "4  01-05-2017    32          4   rain\n",
              "5  01-06-2017    32          2  sunny"
            ]
          },
          "metadata": {
            "tags": []
          },
          "execution_count": 21
        }
      ]
    },
    {
      "cell_type": "code",
      "metadata": {
        "colab": {
          "base_uri": "https://localhost:8080/",
          "height": 303
        },
        "id": "vAKTqhfhxLT_",
        "outputId": "8a543da9-45bd-47f3-c624-dd84d3f3b4d3"
      },
      "source": [
        "df2.loc['2']"
      ],
      "execution_count": 22,
      "outputs": [
        {
          "output_type": "error",
          "ename": "KeyError",
          "evalue": "ignored",
          "traceback": [
            "\u001b[0;31m---------------------------------------------------------------------------\u001b[0m",
            "\u001b[0;31mKeyError\u001b[0m                                  Traceback (most recent call last)",
            "\u001b[0;32m<ipython-input-22-637d735f44e6>\u001b[0m in \u001b[0;36m<module>\u001b[0;34m()\u001b[0m\n\u001b[0;32m----> 1\u001b[0;31m \u001b[0mdf2\u001b[0m\u001b[0;34m.\u001b[0m\u001b[0mloc\u001b[0m\u001b[0;34m[\u001b[0m\u001b[0;34m'2'\u001b[0m\u001b[0;34m]\u001b[0m\u001b[0;34m\u001b[0m\u001b[0;34m\u001b[0m\u001b[0m\n\u001b[0m",
            "\u001b[0;32m/usr/local/lib/python3.6/dist-packages/pandas/core/indexing.py\u001b[0m in \u001b[0;36m__getitem__\u001b[0;34m(self, key)\u001b[0m\n\u001b[1;32m    877\u001b[0m \u001b[0;34m\u001b[0m\u001b[0m\n\u001b[1;32m    878\u001b[0m             \u001b[0mmaybe_callable\u001b[0m \u001b[0;34m=\u001b[0m \u001b[0mcom\u001b[0m\u001b[0;34m.\u001b[0m\u001b[0mapply_if_callable\u001b[0m\u001b[0;34m(\u001b[0m\u001b[0mkey\u001b[0m\u001b[0;34m,\u001b[0m \u001b[0mself\u001b[0m\u001b[0;34m.\u001b[0m\u001b[0mobj\u001b[0m\u001b[0;34m)\u001b[0m\u001b[0;34m\u001b[0m\u001b[0;34m\u001b[0m\u001b[0m\n\u001b[0;32m--> 879\u001b[0;31m             \u001b[0;32mreturn\u001b[0m \u001b[0mself\u001b[0m\u001b[0;34m.\u001b[0m\u001b[0m_getitem_axis\u001b[0m\u001b[0;34m(\u001b[0m\u001b[0mmaybe_callable\u001b[0m\u001b[0;34m,\u001b[0m \u001b[0maxis\u001b[0m\u001b[0;34m=\u001b[0m\u001b[0maxis\u001b[0m\u001b[0;34m)\u001b[0m\u001b[0;34m\u001b[0m\u001b[0;34m\u001b[0m\u001b[0m\n\u001b[0m\u001b[1;32m    880\u001b[0m \u001b[0;34m\u001b[0m\u001b[0m\n\u001b[1;32m    881\u001b[0m     \u001b[0;32mdef\u001b[0m \u001b[0m_is_scalar_access\u001b[0m\u001b[0;34m(\u001b[0m\u001b[0mself\u001b[0m\u001b[0;34m,\u001b[0m \u001b[0mkey\u001b[0m\u001b[0;34m:\u001b[0m \u001b[0mTuple\u001b[0m\u001b[0;34m)\u001b[0m\u001b[0;34m:\u001b[0m\u001b[0;34m\u001b[0m\u001b[0;34m\u001b[0m\u001b[0m\n",
            "\u001b[0;32m/usr/local/lib/python3.6/dist-packages/pandas/core/indexing.py\u001b[0m in \u001b[0;36m_getitem_axis\u001b[0;34m(self, key, axis)\u001b[0m\n\u001b[1;32m   1108\u001b[0m         \u001b[0;31m# fall thru to straight lookup\u001b[0m\u001b[0;34m\u001b[0m\u001b[0;34m\u001b[0m\u001b[0;34m\u001b[0m\u001b[0m\n\u001b[1;32m   1109\u001b[0m         \u001b[0mself\u001b[0m\u001b[0;34m.\u001b[0m\u001b[0m_validate_key\u001b[0m\u001b[0;34m(\u001b[0m\u001b[0mkey\u001b[0m\u001b[0;34m,\u001b[0m \u001b[0maxis\u001b[0m\u001b[0;34m)\u001b[0m\u001b[0;34m\u001b[0m\u001b[0;34m\u001b[0m\u001b[0m\n\u001b[0;32m-> 1110\u001b[0;31m         \u001b[0;32mreturn\u001b[0m \u001b[0mself\u001b[0m\u001b[0;34m.\u001b[0m\u001b[0m_get_label\u001b[0m\u001b[0;34m(\u001b[0m\u001b[0mkey\u001b[0m\u001b[0;34m,\u001b[0m \u001b[0maxis\u001b[0m\u001b[0;34m=\u001b[0m\u001b[0maxis\u001b[0m\u001b[0;34m)\u001b[0m\u001b[0;34m\u001b[0m\u001b[0;34m\u001b[0m\u001b[0m\n\u001b[0m\u001b[1;32m   1111\u001b[0m \u001b[0;34m\u001b[0m\u001b[0m\n\u001b[1;32m   1112\u001b[0m     \u001b[0;32mdef\u001b[0m \u001b[0m_get_slice_axis\u001b[0m\u001b[0;34m(\u001b[0m\u001b[0mself\u001b[0m\u001b[0;34m,\u001b[0m \u001b[0mslice_obj\u001b[0m\u001b[0;34m:\u001b[0m \u001b[0mslice\u001b[0m\u001b[0;34m,\u001b[0m \u001b[0maxis\u001b[0m\u001b[0;34m:\u001b[0m \u001b[0mint\u001b[0m\u001b[0;34m)\u001b[0m\u001b[0;34m:\u001b[0m\u001b[0;34m\u001b[0m\u001b[0;34m\u001b[0m\u001b[0m\n",
            "\u001b[0;32m/usr/local/lib/python3.6/dist-packages/pandas/core/indexing.py\u001b[0m in \u001b[0;36m_get_label\u001b[0;34m(self, label, axis)\u001b[0m\n\u001b[1;32m   1057\u001b[0m     \u001b[0;32mdef\u001b[0m \u001b[0m_get_label\u001b[0m\u001b[0;34m(\u001b[0m\u001b[0mself\u001b[0m\u001b[0;34m,\u001b[0m \u001b[0mlabel\u001b[0m\u001b[0;34m,\u001b[0m \u001b[0maxis\u001b[0m\u001b[0;34m:\u001b[0m \u001b[0mint\u001b[0m\u001b[0;34m)\u001b[0m\u001b[0;34m:\u001b[0m\u001b[0;34m\u001b[0m\u001b[0;34m\u001b[0m\u001b[0m\n\u001b[1;32m   1058\u001b[0m         \u001b[0;31m# GH#5667 this will fail if the label is not present in the axis.\u001b[0m\u001b[0;34m\u001b[0m\u001b[0;34m\u001b[0m\u001b[0;34m\u001b[0m\u001b[0m\n\u001b[0;32m-> 1059\u001b[0;31m         \u001b[0;32mreturn\u001b[0m \u001b[0mself\u001b[0m\u001b[0;34m.\u001b[0m\u001b[0mobj\u001b[0m\u001b[0;34m.\u001b[0m\u001b[0mxs\u001b[0m\u001b[0;34m(\u001b[0m\u001b[0mlabel\u001b[0m\u001b[0;34m,\u001b[0m \u001b[0maxis\u001b[0m\u001b[0;34m=\u001b[0m\u001b[0maxis\u001b[0m\u001b[0;34m)\u001b[0m\u001b[0;34m\u001b[0m\u001b[0;34m\u001b[0m\u001b[0m\n\u001b[0m\u001b[1;32m   1060\u001b[0m \u001b[0;34m\u001b[0m\u001b[0m\n\u001b[1;32m   1061\u001b[0m     \u001b[0;32mdef\u001b[0m \u001b[0m_handle_lowerdim_multi_index_axis0\u001b[0m\u001b[0;34m(\u001b[0m\u001b[0mself\u001b[0m\u001b[0;34m,\u001b[0m \u001b[0mtup\u001b[0m\u001b[0;34m:\u001b[0m \u001b[0mTuple\u001b[0m\u001b[0;34m)\u001b[0m\u001b[0;34m:\u001b[0m\u001b[0;34m\u001b[0m\u001b[0;34m\u001b[0m\u001b[0m\n",
            "\u001b[0;32m/usr/local/lib/python3.6/dist-packages/pandas/core/generic.py\u001b[0m in \u001b[0;36mxs\u001b[0;34m(self, key, axis, level, drop_level)\u001b[0m\n\u001b[1;32m   3491\u001b[0m             \u001b[0mloc\u001b[0m\u001b[0;34m,\u001b[0m \u001b[0mnew_index\u001b[0m \u001b[0;34m=\u001b[0m \u001b[0mself\u001b[0m\u001b[0;34m.\u001b[0m\u001b[0mindex\u001b[0m\u001b[0;34m.\u001b[0m\u001b[0mget_loc_level\u001b[0m\u001b[0;34m(\u001b[0m\u001b[0mkey\u001b[0m\u001b[0;34m,\u001b[0m \u001b[0mdrop_level\u001b[0m\u001b[0;34m=\u001b[0m\u001b[0mdrop_level\u001b[0m\u001b[0;34m)\u001b[0m\u001b[0;34m\u001b[0m\u001b[0;34m\u001b[0m\u001b[0m\n\u001b[1;32m   3492\u001b[0m         \u001b[0;32melse\u001b[0m\u001b[0;34m:\u001b[0m\u001b[0;34m\u001b[0m\u001b[0;34m\u001b[0m\u001b[0m\n\u001b[0;32m-> 3493\u001b[0;31m             \u001b[0mloc\u001b[0m \u001b[0;34m=\u001b[0m \u001b[0mself\u001b[0m\u001b[0;34m.\u001b[0m\u001b[0mindex\u001b[0m\u001b[0;34m.\u001b[0m\u001b[0mget_loc\u001b[0m\u001b[0;34m(\u001b[0m\u001b[0mkey\u001b[0m\u001b[0;34m)\u001b[0m\u001b[0;34m\u001b[0m\u001b[0;34m\u001b[0m\u001b[0m\n\u001b[0m\u001b[1;32m   3494\u001b[0m \u001b[0;34m\u001b[0m\u001b[0m\n\u001b[1;32m   3495\u001b[0m             \u001b[0;32mif\u001b[0m \u001b[0misinstance\u001b[0m\u001b[0;34m(\u001b[0m\u001b[0mloc\u001b[0m\u001b[0;34m,\u001b[0m \u001b[0mnp\u001b[0m\u001b[0;34m.\u001b[0m\u001b[0mndarray\u001b[0m\u001b[0;34m)\u001b[0m\u001b[0;34m:\u001b[0m\u001b[0;34m\u001b[0m\u001b[0;34m\u001b[0m\u001b[0m\n",
            "\u001b[0;32m/usr/local/lib/python3.6/dist-packages/pandas/core/indexes/range.py\u001b[0m in \u001b[0;36mget_loc\u001b[0;34m(self, key, method, tolerance)\u001b[0m\n\u001b[1;32m    356\u001b[0m                 \u001b[0;32mexcept\u001b[0m \u001b[0mValueError\u001b[0m \u001b[0;32mas\u001b[0m \u001b[0merr\u001b[0m\u001b[0;34m:\u001b[0m\u001b[0;34m\u001b[0m\u001b[0;34m\u001b[0m\u001b[0m\n\u001b[1;32m    357\u001b[0m                     \u001b[0;32mraise\u001b[0m \u001b[0mKeyError\u001b[0m\u001b[0;34m(\u001b[0m\u001b[0mkey\u001b[0m\u001b[0;34m)\u001b[0m \u001b[0;32mfrom\u001b[0m \u001b[0merr\u001b[0m\u001b[0;34m\u001b[0m\u001b[0;34m\u001b[0m\u001b[0m\n\u001b[0;32m--> 358\u001b[0;31m             \u001b[0;32mraise\u001b[0m \u001b[0mKeyError\u001b[0m\u001b[0;34m(\u001b[0m\u001b[0mkey\u001b[0m\u001b[0;34m)\u001b[0m\u001b[0;34m\u001b[0m\u001b[0;34m\u001b[0m\u001b[0m\n\u001b[0m\u001b[1;32m    359\u001b[0m         \u001b[0;32mreturn\u001b[0m \u001b[0msuper\u001b[0m\u001b[0;34m(\u001b[0m\u001b[0;34m)\u001b[0m\u001b[0;34m.\u001b[0m\u001b[0mget_loc\u001b[0m\u001b[0;34m(\u001b[0m\u001b[0mkey\u001b[0m\u001b[0;34m,\u001b[0m \u001b[0mmethod\u001b[0m\u001b[0;34m=\u001b[0m\u001b[0mmethod\u001b[0m\u001b[0;34m,\u001b[0m \u001b[0mtolerance\u001b[0m\u001b[0;34m=\u001b[0m\u001b[0mtolerance\u001b[0m\u001b[0;34m)\u001b[0m\u001b[0;34m\u001b[0m\u001b[0;34m\u001b[0m\u001b[0m\n\u001b[1;32m    360\u001b[0m \u001b[0;34m\u001b[0m\u001b[0m\n",
            "\u001b[0;31mKeyError\u001b[0m: '2'"
          ]
        }
      ]
    },
    {
      "cell_type": "code",
      "metadata": {
        "colab": {
          "base_uri": "https://localhost:8080/"
        },
        "id": "6WIrjqU3xUnn",
        "outputId": "0365353c-04aa-47bb-eb10-606895b5ee34"
      },
      "source": [
        "df2.loc[2]"
      ],
      "execution_count": 23,
      "outputs": [
        {
          "output_type": "execute_result",
          "data": {
            "text/plain": [
              "day          01-03-2017\n",
              "temp                 28\n",
              "windspeed             2\n",
              "event              snow\n",
              "Name: 2, dtype: object"
            ]
          },
          "metadata": {
            "tags": []
          },
          "execution_count": 23
        }
      ]
    },
    {
      "cell_type": "code",
      "metadata": {
        "id": "zO4JANu6xXa3"
      },
      "source": [
        ""
      ],
      "execution_count": null,
      "outputs": []
    },
    {
      "cell_type": "markdown",
      "metadata": {
        "id": "3Xx1LTfCx-6q"
      },
      "source": [
        "***differebt ways of creating dataframe***\r\n",
        "**bold text**"
      ]
    },
    {
      "cell_type": "code",
      "metadata": {
        "id": "LHV8DoM61yRK"
      },
      "source": [
        "import pandas as pd"
      ],
      "execution_count": 24,
      "outputs": []
    },
    {
      "cell_type": "code",
      "metadata": {
        "id": "aVnU8riZ11lN"
      },
      "source": [
        "df3=pd.read_excel('/content/Book1.xlsx','Sheet1')"
      ],
      "execution_count": 25,
      "outputs": []
    },
    {
      "cell_type": "code",
      "metadata": {
        "colab": {
          "base_uri": "https://localhost:8080/",
          "height": 225
        },
        "id": "oiPYDmYQ2H6Y",
        "outputId": "2768b28e-6706-4dea-888c-394b72fb3ae0"
      },
      "source": [
        "df3"
      ],
      "execution_count": 26,
      "outputs": [
        {
          "output_type": "execute_result",
          "data": {
            "text/html": [
              "<div>\n",
              "<style scoped>\n",
              "    .dataframe tbody tr th:only-of-type {\n",
              "        vertical-align: middle;\n",
              "    }\n",
              "\n",
              "    .dataframe tbody tr th {\n",
              "        vertical-align: top;\n",
              "    }\n",
              "\n",
              "    .dataframe thead th {\n",
              "        text-align: right;\n",
              "    }\n",
              "</style>\n",
              "<table border=\"1\" class=\"dataframe\">\n",
              "  <thead>\n",
              "    <tr style=\"text-align: right;\">\n",
              "      <th></th>\n",
              "      <th>day</th>\n",
              "      <th>temp</th>\n",
              "      <th>windspeed</th>\n",
              "      <th>event</th>\n",
              "    </tr>\n",
              "  </thead>\n",
              "  <tbody>\n",
              "    <tr>\n",
              "      <th>0</th>\n",
              "      <td>2017-01-01</td>\n",
              "      <td>32</td>\n",
              "      <td>6</td>\n",
              "      <td>rain</td>\n",
              "    </tr>\n",
              "    <tr>\n",
              "      <th>1</th>\n",
              "      <td>2017-02-01</td>\n",
              "      <td>35</td>\n",
              "      <td>7</td>\n",
              "      <td>sunny</td>\n",
              "    </tr>\n",
              "    <tr>\n",
              "      <th>2</th>\n",
              "      <td>2017-03-01</td>\n",
              "      <td>28</td>\n",
              "      <td>2</td>\n",
              "      <td>snow</td>\n",
              "    </tr>\n",
              "    <tr>\n",
              "      <th>3</th>\n",
              "      <td>2017-04-01</td>\n",
              "      <td>24</td>\n",
              "      <td>7</td>\n",
              "      <td>snow</td>\n",
              "    </tr>\n",
              "    <tr>\n",
              "      <th>4</th>\n",
              "      <td>2017-05-01</td>\n",
              "      <td>32</td>\n",
              "      <td>4</td>\n",
              "      <td>rain</td>\n",
              "    </tr>\n",
              "    <tr>\n",
              "      <th>5</th>\n",
              "      <td>2017-06-01</td>\n",
              "      <td>32</td>\n",
              "      <td>2</td>\n",
              "      <td>sunny</td>\n",
              "    </tr>\n",
              "  </tbody>\n",
              "</table>\n",
              "</div>"
            ],
            "text/plain": [
              "         day  temp  windspeed  event\n",
              "0 2017-01-01    32          6   rain\n",
              "1 2017-02-01    35          7  sunny\n",
              "2 2017-03-01    28          2   snow\n",
              "3 2017-04-01    24          7   snow\n",
              "4 2017-05-01    32          4   rain\n",
              "5 2017-06-01    32          2  sunny"
            ]
          },
          "metadata": {
            "tags": []
          },
          "execution_count": 26
        }
      ]
    },
    {
      "cell_type": "code",
      "metadata": {
        "id": "i3UP85BI2JXQ"
      },
      "source": [
        ""
      ],
      "execution_count": null,
      "outputs": []
    },
    {
      "cell_type": "markdown",
      "metadata": {
        "id": "kfS96Gf98G2-"
      },
      "source": [
        "***covert to NAN***"
      ]
    },
    {
      "cell_type": "code",
      "metadata": {
        "id": "LwhF13cS8KhS"
      },
      "source": [
        "pd4=pd.read_excel('/content/Book3.xlsx',na_values={'eps':[-1],\r\n",
        "                                                   'revenue':[-1]}\r\n",
        "                  )"
      ],
      "execution_count": 39,
      "outputs": []
    },
    {
      "cell_type": "code",
      "metadata": {
        "colab": {
          "base_uri": "https://localhost:8080/",
          "height": 195
        },
        "id": "sBqbpgXU9hUk",
        "outputId": "6963d535-a43f-44c4-cb01-d89c286fe5eb"
      },
      "source": [
        "pd4"
      ],
      "execution_count": 40,
      "outputs": [
        {
          "output_type": "execute_result",
          "data": {
            "text/html": [
              "<div>\n",
              "<style scoped>\n",
              "    .dataframe tbody tr th:only-of-type {\n",
              "        vertical-align: middle;\n",
              "    }\n",
              "\n",
              "    .dataframe tbody tr th {\n",
              "        vertical-align: top;\n",
              "    }\n",
              "\n",
              "    .dataframe thead th {\n",
              "        text-align: right;\n",
              "    }\n",
              "</style>\n",
              "<table border=\"1\" class=\"dataframe\">\n",
              "  <thead>\n",
              "    <tr style=\"text-align: right;\">\n",
              "      <th></th>\n",
              "      <th>tickers</th>\n",
              "      <th>eps</th>\n",
              "      <th>revenue</th>\n",
              "      <th>price</th>\n",
              "      <th>people</th>\n",
              "    </tr>\n",
              "  </thead>\n",
              "  <tbody>\n",
              "    <tr>\n",
              "      <th>0</th>\n",
              "      <td>GOOGLE</td>\n",
              "      <td>27.82</td>\n",
              "      <td>87</td>\n",
              "      <td>845.0</td>\n",
              "      <td>LARRY PAGE</td>\n",
              "    </tr>\n",
              "    <tr>\n",
              "      <th>1</th>\n",
              "      <td>WMT</td>\n",
              "      <td>4.61</td>\n",
              "      <td>484</td>\n",
              "      <td>64.0</td>\n",
              "      <td>NaN</td>\n",
              "    </tr>\n",
              "    <tr>\n",
              "      <th>2</th>\n",
              "      <td>MSFT</td>\n",
              "      <td>NaN</td>\n",
              "      <td>65</td>\n",
              "      <td>65.0</td>\n",
              "      <td>BILL GATES</td>\n",
              "    </tr>\n",
              "    <tr>\n",
              "      <th>3</th>\n",
              "      <td>BHEL</td>\n",
              "      <td>NaN</td>\n",
              "      <td>50</td>\n",
              "      <td>1023.0</td>\n",
              "      <td>MUKESH</td>\n",
              "    </tr>\n",
              "    <tr>\n",
              "      <th>4</th>\n",
              "      <td>TATA</td>\n",
              "      <td>5.00</td>\n",
              "      <td>-1</td>\n",
              "      <td>NaN</td>\n",
              "      <td>RATAN TATA</td>\n",
              "    </tr>\n",
              "  </tbody>\n",
              "</table>\n",
              "</div>"
            ],
            "text/plain": [
              "  tickers    eps  revenue   price      people\n",
              "0  GOOGLE  27.82       87   845.0  LARRY PAGE\n",
              "1     WMT   4.61      484    64.0         NaN\n",
              "2    MSFT    NaN       65    65.0  BILL GATES\n",
              "3    BHEL    NaN       50  1023.0      MUKESH\n",
              "4    TATA   5.00       -1     NaN  RATAN TATA"
            ]
          },
          "metadata": {
            "tags": []
          },
          "execution_count": 40
        }
      ]
    },
    {
      "cell_type": "code",
      "metadata": {
        "colab": {
          "base_uri": "https://localhost:8080/"
        },
        "id": "gnBRFU7o9iPX",
        "outputId": "e6bbd650-f1a7-4a57-ddeb-13498a82774e"
      },
      "source": [
        "pd4.columns"
      ],
      "execution_count": 41,
      "outputs": [
        {
          "output_type": "execute_result",
          "data": {
            "text/plain": [
              "Index(['tickers', 'eps', 'revenue', 'price', 'people'], dtype='object')"
            ]
          },
          "metadata": {
            "tags": []
          },
          "execution_count": 41
        }
      ]
    },
    {
      "cell_type": "code",
      "metadata": {
        "colab": {
          "base_uri": "https://localhost:8080/",
          "height": 195
        },
        "id": "gg7ztOMSAIUQ",
        "outputId": "76a1d766-b4f5-4121-a284-b63ce42697a9"
      },
      "source": [
        "def convert(cell):\r\n",
        "  if cell==-1:\r\n",
        "    return 'very low'\r\n",
        "  return cell\r\n",
        "\r\n",
        "pd4=pd.read_excel(\"/content/Book3.xlsx\",\"Sheet1\",converters={\r\n",
        "    'revenue':convert\r\n",
        "})    \r\n",
        "pd4"
      ],
      "execution_count": 48,
      "outputs": [
        {
          "output_type": "execute_result",
          "data": {
            "text/html": [
              "<div>\n",
              "<style scoped>\n",
              "    .dataframe tbody tr th:only-of-type {\n",
              "        vertical-align: middle;\n",
              "    }\n",
              "\n",
              "    .dataframe tbody tr th {\n",
              "        vertical-align: top;\n",
              "    }\n",
              "\n",
              "    .dataframe thead th {\n",
              "        text-align: right;\n",
              "    }\n",
              "</style>\n",
              "<table border=\"1\" class=\"dataframe\">\n",
              "  <thead>\n",
              "    <tr style=\"text-align: right;\">\n",
              "      <th></th>\n",
              "      <th>tickers</th>\n",
              "      <th>eps</th>\n",
              "      <th>revenue</th>\n",
              "      <th>price</th>\n",
              "      <th>people</th>\n",
              "    </tr>\n",
              "  </thead>\n",
              "  <tbody>\n",
              "    <tr>\n",
              "      <th>0</th>\n",
              "      <td>GOOGLE</td>\n",
              "      <td>27.82</td>\n",
              "      <td>87</td>\n",
              "      <td>845.0</td>\n",
              "      <td>LARRY PAGE</td>\n",
              "    </tr>\n",
              "    <tr>\n",
              "      <th>1</th>\n",
              "      <td>WMT</td>\n",
              "      <td>4.61</td>\n",
              "      <td>484</td>\n",
              "      <td>64.0</td>\n",
              "      <td>NaN</td>\n",
              "    </tr>\n",
              "    <tr>\n",
              "      <th>2</th>\n",
              "      <td>MSFT</td>\n",
              "      <td>-1.00</td>\n",
              "      <td>65</td>\n",
              "      <td>65.0</td>\n",
              "      <td>BILL GATES</td>\n",
              "    </tr>\n",
              "    <tr>\n",
              "      <th>3</th>\n",
              "      <td>BHEL</td>\n",
              "      <td>NaN</td>\n",
              "      <td>50</td>\n",
              "      <td>1023.0</td>\n",
              "      <td>MUKESH</td>\n",
              "    </tr>\n",
              "    <tr>\n",
              "      <th>4</th>\n",
              "      <td>TATA</td>\n",
              "      <td>5.00</td>\n",
              "      <td>very low</td>\n",
              "      <td>NaN</td>\n",
              "      <td>RATAN TATA</td>\n",
              "    </tr>\n",
              "  </tbody>\n",
              "</table>\n",
              "</div>"
            ],
            "text/plain": [
              "  tickers    eps   revenue   price      people\n",
              "0  GOOGLE  27.82        87   845.0  LARRY PAGE\n",
              "1     WMT   4.61       484    64.0         NaN\n",
              "2    MSFT  -1.00        65    65.0  BILL GATES\n",
              "3    BHEL    NaN        50  1023.0      MUKESH\n",
              "4    TATA   5.00  very low     NaN  RATAN TATA"
            ]
          },
          "metadata": {
            "tags": []
          },
          "execution_count": 48
        }
      ]
    },
    {
      "cell_type": "markdown",
      "metadata": {
        "id": "ke32urfnCXHi"
      },
      "source": [
        ""
      ]
    },
    {
      "cell_type": "markdown",
      "metadata": {
        "id": "mzxZxdiNCd3-"
      },
      "source": [
        "***handle missing data***"
      ]
    },
    {
      "cell_type": "code",
      "metadata": {
        "id": "5V6sBtG9CgIk"
      },
      "source": [
        "import pandas as pd"
      ],
      "execution_count": 45,
      "outputs": []
    },
    {
      "cell_type": "code",
      "metadata": {
        "colab": {
          "base_uri": "https://localhost:8080/",
          "height": 195
        },
        "id": "h_vxIspVCiCM",
        "outputId": "10d2a982-d184-4824-aa86-43e6de19b40c"
      },
      "source": [
        "pd4.fillna(0.0)"
      ],
      "execution_count": 46,
      "outputs": [
        {
          "output_type": "execute_result",
          "data": {
            "text/html": [
              "<div>\n",
              "<style scoped>\n",
              "    .dataframe tbody tr th:only-of-type {\n",
              "        vertical-align: middle;\n",
              "    }\n",
              "\n",
              "    .dataframe tbody tr th {\n",
              "        vertical-align: top;\n",
              "    }\n",
              "\n",
              "    .dataframe thead th {\n",
              "        text-align: right;\n",
              "    }\n",
              "</style>\n",
              "<table border=\"1\" class=\"dataframe\">\n",
              "  <thead>\n",
              "    <tr style=\"text-align: right;\">\n",
              "      <th></th>\n",
              "      <th>tickers</th>\n",
              "      <th>eps</th>\n",
              "      <th>revenue</th>\n",
              "      <th>price</th>\n",
              "      <th>people</th>\n",
              "    </tr>\n",
              "  </thead>\n",
              "  <tbody>\n",
              "    <tr>\n",
              "      <th>0</th>\n",
              "      <td>GOOGLE</td>\n",
              "      <td>27.82</td>\n",
              "      <td>87</td>\n",
              "      <td>845.0</td>\n",
              "      <td>LARRY PAGE</td>\n",
              "    </tr>\n",
              "    <tr>\n",
              "      <th>1</th>\n",
              "      <td>WMT</td>\n",
              "      <td>4.61</td>\n",
              "      <td>484</td>\n",
              "      <td>64.0</td>\n",
              "      <td>0</td>\n",
              "    </tr>\n",
              "    <tr>\n",
              "      <th>2</th>\n",
              "      <td>MSFT</td>\n",
              "      <td>-1.00</td>\n",
              "      <td>65</td>\n",
              "      <td>65.0</td>\n",
              "      <td>BILL GATES</td>\n",
              "    </tr>\n",
              "    <tr>\n",
              "      <th>3</th>\n",
              "      <td>BHEL</td>\n",
              "      <td>0.00</td>\n",
              "      <td>50</td>\n",
              "      <td>1023.0</td>\n",
              "      <td>MUKESH</td>\n",
              "    </tr>\n",
              "    <tr>\n",
              "      <th>4</th>\n",
              "      <td>TATA</td>\n",
              "      <td>5.00</td>\n",
              "      <td>very low</td>\n",
              "      <td>0.0</td>\n",
              "      <td>RATAN TATA</td>\n",
              "    </tr>\n",
              "  </tbody>\n",
              "</table>\n",
              "</div>"
            ],
            "text/plain": [
              "  tickers    eps   revenue   price      people\n",
              "0  GOOGLE  27.82        87   845.0  LARRY PAGE\n",
              "1     WMT   4.61       484    64.0           0\n",
              "2    MSFT  -1.00        65    65.0  BILL GATES\n",
              "3    BHEL   0.00        50  1023.0      MUKESH\n",
              "4    TATA   5.00  very low     0.0  RATAN TATA"
            ]
          },
          "metadata": {
            "tags": []
          },
          "execution_count": 46
        }
      ]
    },
    {
      "cell_type": "code",
      "metadata": {
        "colab": {
          "base_uri": "https://localhost:8080/",
          "height": 195
        },
        "id": "Cyo9CBDJDMSZ",
        "outputId": "76c76d26-3b67-4e55-9af1-534b7f474545"
      },
      "source": [
        "#add avrg values\r\n",
        "pd4.fillna({'price':10,\r\n",
        "            'eps':10})"
      ],
      "execution_count": 52,
      "outputs": [
        {
          "output_type": "execute_result",
          "data": {
            "text/html": [
              "<div>\n",
              "<style scoped>\n",
              "    .dataframe tbody tr th:only-of-type {\n",
              "        vertical-align: middle;\n",
              "    }\n",
              "\n",
              "    .dataframe tbody tr th {\n",
              "        vertical-align: top;\n",
              "    }\n",
              "\n",
              "    .dataframe thead th {\n",
              "        text-align: right;\n",
              "    }\n",
              "</style>\n",
              "<table border=\"1\" class=\"dataframe\">\n",
              "  <thead>\n",
              "    <tr style=\"text-align: right;\">\n",
              "      <th></th>\n",
              "      <th>tickers</th>\n",
              "      <th>eps</th>\n",
              "      <th>revenue</th>\n",
              "      <th>price</th>\n",
              "      <th>people</th>\n",
              "    </tr>\n",
              "  </thead>\n",
              "  <tbody>\n",
              "    <tr>\n",
              "      <th>0</th>\n",
              "      <td>GOOGLE</td>\n",
              "      <td>27.82</td>\n",
              "      <td>87</td>\n",
              "      <td>845.0</td>\n",
              "      <td>LARRY PAGE</td>\n",
              "    </tr>\n",
              "    <tr>\n",
              "      <th>1</th>\n",
              "      <td>WMT</td>\n",
              "      <td>4.61</td>\n",
              "      <td>484</td>\n",
              "      <td>64.0</td>\n",
              "      <td>NaN</td>\n",
              "    </tr>\n",
              "    <tr>\n",
              "      <th>2</th>\n",
              "      <td>MSFT</td>\n",
              "      <td>-1.00</td>\n",
              "      <td>65</td>\n",
              "      <td>65.0</td>\n",
              "      <td>BILL GATES</td>\n",
              "    </tr>\n",
              "    <tr>\n",
              "      <th>3</th>\n",
              "      <td>BHEL</td>\n",
              "      <td>10.00</td>\n",
              "      <td>50</td>\n",
              "      <td>1023.0</td>\n",
              "      <td>MUKESH</td>\n",
              "    </tr>\n",
              "    <tr>\n",
              "      <th>4</th>\n",
              "      <td>TATA</td>\n",
              "      <td>5.00</td>\n",
              "      <td>very low</td>\n",
              "      <td>10.0</td>\n",
              "      <td>RATAN TATA</td>\n",
              "    </tr>\n",
              "  </tbody>\n",
              "</table>\n",
              "</div>"
            ],
            "text/plain": [
              "  tickers    eps   revenue   price      people\n",
              "0  GOOGLE  27.82        87   845.0  LARRY PAGE\n",
              "1     WMT   4.61       484    64.0         NaN\n",
              "2    MSFT  -1.00        65    65.0  BILL GATES\n",
              "3    BHEL  10.00        50  1023.0      MUKESH\n",
              "4    TATA   5.00  very low    10.0  RATAN TATA"
            ]
          },
          "metadata": {
            "tags": []
          },
          "execution_count": 52
        }
      ]
    },
    {
      "cell_type": "code",
      "metadata": {
        "id": "cV06E_mpDZHw"
      },
      "source": [
        "newdf=pd4.fillna(method=\"ffill\")"
      ],
      "execution_count": 53,
      "outputs": []
    },
    {
      "cell_type": "code",
      "metadata": {
        "colab": {
          "base_uri": "https://localhost:8080/",
          "height": 195
        },
        "id": "WeJa4XUEESlo",
        "outputId": "bdb67f28-c19e-4b77-811e-cd875ac8a993"
      },
      "source": [
        "newdf"
      ],
      "execution_count": 54,
      "outputs": [
        {
          "output_type": "execute_result",
          "data": {
            "text/html": [
              "<div>\n",
              "<style scoped>\n",
              "    .dataframe tbody tr th:only-of-type {\n",
              "        vertical-align: middle;\n",
              "    }\n",
              "\n",
              "    .dataframe tbody tr th {\n",
              "        vertical-align: top;\n",
              "    }\n",
              "\n",
              "    .dataframe thead th {\n",
              "        text-align: right;\n",
              "    }\n",
              "</style>\n",
              "<table border=\"1\" class=\"dataframe\">\n",
              "  <thead>\n",
              "    <tr style=\"text-align: right;\">\n",
              "      <th></th>\n",
              "      <th>tickers</th>\n",
              "      <th>eps</th>\n",
              "      <th>revenue</th>\n",
              "      <th>price</th>\n",
              "      <th>people</th>\n",
              "    </tr>\n",
              "  </thead>\n",
              "  <tbody>\n",
              "    <tr>\n",
              "      <th>0</th>\n",
              "      <td>GOOGLE</td>\n",
              "      <td>27.82</td>\n",
              "      <td>87</td>\n",
              "      <td>845.0</td>\n",
              "      <td>LARRY PAGE</td>\n",
              "    </tr>\n",
              "    <tr>\n",
              "      <th>1</th>\n",
              "      <td>WMT</td>\n",
              "      <td>4.61</td>\n",
              "      <td>484</td>\n",
              "      <td>64.0</td>\n",
              "      <td>LARRY PAGE</td>\n",
              "    </tr>\n",
              "    <tr>\n",
              "      <th>2</th>\n",
              "      <td>MSFT</td>\n",
              "      <td>-1.00</td>\n",
              "      <td>65</td>\n",
              "      <td>65.0</td>\n",
              "      <td>BILL GATES</td>\n",
              "    </tr>\n",
              "    <tr>\n",
              "      <th>3</th>\n",
              "      <td>BHEL</td>\n",
              "      <td>-1.00</td>\n",
              "      <td>50</td>\n",
              "      <td>1023.0</td>\n",
              "      <td>MUKESH</td>\n",
              "    </tr>\n",
              "    <tr>\n",
              "      <th>4</th>\n",
              "      <td>TATA</td>\n",
              "      <td>5.00</td>\n",
              "      <td>very low</td>\n",
              "      <td>1023.0</td>\n",
              "      <td>RATAN TATA</td>\n",
              "    </tr>\n",
              "  </tbody>\n",
              "</table>\n",
              "</div>"
            ],
            "text/plain": [
              "  tickers    eps   revenue   price      people\n",
              "0  GOOGLE  27.82        87   845.0  LARRY PAGE\n",
              "1     WMT   4.61       484    64.0  LARRY PAGE\n",
              "2    MSFT  -1.00        65    65.0  BILL GATES\n",
              "3    BHEL  -1.00        50  1023.0      MUKESH\n",
              "4    TATA   5.00  very low  1023.0  RATAN TATA"
            ]
          },
          "metadata": {
            "tags": []
          },
          "execution_count": 54
        }
      ]
    },
    {
      "cell_type": "code",
      "metadata": {
        "id": "i9XUVBtZETU6"
      },
      "source": [
        "newdf=pd4.fillna(method=\"bfill\")"
      ],
      "execution_count": 57,
      "outputs": []
    },
    {
      "cell_type": "code",
      "metadata": {
        "colab": {
          "base_uri": "https://localhost:8080/",
          "height": 195
        },
        "id": "trzyYoCVEa5e",
        "outputId": "1fe92def-752e-4385-babc-31136ebf01bb"
      },
      "source": [
        "newdf"
      ],
      "execution_count": 58,
      "outputs": [
        {
          "output_type": "execute_result",
          "data": {
            "text/html": [
              "<div>\n",
              "<style scoped>\n",
              "    .dataframe tbody tr th:only-of-type {\n",
              "        vertical-align: middle;\n",
              "    }\n",
              "\n",
              "    .dataframe tbody tr th {\n",
              "        vertical-align: top;\n",
              "    }\n",
              "\n",
              "    .dataframe thead th {\n",
              "        text-align: right;\n",
              "    }\n",
              "</style>\n",
              "<table border=\"1\" class=\"dataframe\">\n",
              "  <thead>\n",
              "    <tr style=\"text-align: right;\">\n",
              "      <th></th>\n",
              "      <th>tickers</th>\n",
              "      <th>eps</th>\n",
              "      <th>revenue</th>\n",
              "      <th>price</th>\n",
              "      <th>people</th>\n",
              "    </tr>\n",
              "  </thead>\n",
              "  <tbody>\n",
              "    <tr>\n",
              "      <th>0</th>\n",
              "      <td>GOOGLE</td>\n",
              "      <td>27.82</td>\n",
              "      <td>87</td>\n",
              "      <td>845.0</td>\n",
              "      <td>LARRY PAGE</td>\n",
              "    </tr>\n",
              "    <tr>\n",
              "      <th>1</th>\n",
              "      <td>WMT</td>\n",
              "      <td>4.61</td>\n",
              "      <td>484</td>\n",
              "      <td>64.0</td>\n",
              "      <td>BILL GATES</td>\n",
              "    </tr>\n",
              "    <tr>\n",
              "      <th>2</th>\n",
              "      <td>MSFT</td>\n",
              "      <td>-1.00</td>\n",
              "      <td>65</td>\n",
              "      <td>65.0</td>\n",
              "      <td>BILL GATES</td>\n",
              "    </tr>\n",
              "    <tr>\n",
              "      <th>3</th>\n",
              "      <td>BHEL</td>\n",
              "      <td>5.00</td>\n",
              "      <td>50</td>\n",
              "      <td>1023.0</td>\n",
              "      <td>MUKESH</td>\n",
              "    </tr>\n",
              "    <tr>\n",
              "      <th>4</th>\n",
              "      <td>TATA</td>\n",
              "      <td>5.00</td>\n",
              "      <td>very low</td>\n",
              "      <td>NaN</td>\n",
              "      <td>RATAN TATA</td>\n",
              "    </tr>\n",
              "  </tbody>\n",
              "</table>\n",
              "</div>"
            ],
            "text/plain": [
              "  tickers    eps   revenue   price      people\n",
              "0  GOOGLE  27.82        87   845.0  LARRY PAGE\n",
              "1     WMT   4.61       484    64.0  BILL GATES\n",
              "2    MSFT  -1.00        65    65.0  BILL GATES\n",
              "3    BHEL   5.00        50  1023.0      MUKESH\n",
              "4    TATA   5.00  very low     NaN  RATAN TATA"
            ]
          },
          "metadata": {
            "tags": []
          },
          "execution_count": 58
        }
      ]
    },
    {
      "cell_type": "code",
      "metadata": {
        "id": "EOMJzOYQEcCo"
      },
      "source": [
        "newdf=pd4.fillna(method='ffill',axis=\"columns\")"
      ],
      "execution_count": 59,
      "outputs": []
    },
    {
      "cell_type": "code",
      "metadata": {
        "colab": {
          "base_uri": "https://localhost:8080/",
          "height": 195
        },
        "id": "75rTxwf0FFJI",
        "outputId": "01b34068-3e54-4af9-b638-615d78f7c242"
      },
      "source": [
        "newdf\r\n"
      ],
      "execution_count": 60,
      "outputs": [
        {
          "output_type": "execute_result",
          "data": {
            "text/html": [
              "<div>\n",
              "<style scoped>\n",
              "    .dataframe tbody tr th:only-of-type {\n",
              "        vertical-align: middle;\n",
              "    }\n",
              "\n",
              "    .dataframe tbody tr th {\n",
              "        vertical-align: top;\n",
              "    }\n",
              "\n",
              "    .dataframe thead th {\n",
              "        text-align: right;\n",
              "    }\n",
              "</style>\n",
              "<table border=\"1\" class=\"dataframe\">\n",
              "  <thead>\n",
              "    <tr style=\"text-align: right;\">\n",
              "      <th></th>\n",
              "      <th>tickers</th>\n",
              "      <th>eps</th>\n",
              "      <th>revenue</th>\n",
              "      <th>price</th>\n",
              "      <th>people</th>\n",
              "    </tr>\n",
              "  </thead>\n",
              "  <tbody>\n",
              "    <tr>\n",
              "      <th>0</th>\n",
              "      <td>GOOGLE</td>\n",
              "      <td>27.82</td>\n",
              "      <td>87</td>\n",
              "      <td>845</td>\n",
              "      <td>LARRY PAGE</td>\n",
              "    </tr>\n",
              "    <tr>\n",
              "      <th>1</th>\n",
              "      <td>WMT</td>\n",
              "      <td>4.61</td>\n",
              "      <td>484</td>\n",
              "      <td>64</td>\n",
              "      <td>64</td>\n",
              "    </tr>\n",
              "    <tr>\n",
              "      <th>2</th>\n",
              "      <td>MSFT</td>\n",
              "      <td>-1</td>\n",
              "      <td>65</td>\n",
              "      <td>65</td>\n",
              "      <td>BILL GATES</td>\n",
              "    </tr>\n",
              "    <tr>\n",
              "      <th>3</th>\n",
              "      <td>BHEL</td>\n",
              "      <td>BHEL</td>\n",
              "      <td>50</td>\n",
              "      <td>1023</td>\n",
              "      <td>MUKESH</td>\n",
              "    </tr>\n",
              "    <tr>\n",
              "      <th>4</th>\n",
              "      <td>TATA</td>\n",
              "      <td>5</td>\n",
              "      <td>very low</td>\n",
              "      <td>very low</td>\n",
              "      <td>RATAN TATA</td>\n",
              "    </tr>\n",
              "  </tbody>\n",
              "</table>\n",
              "</div>"
            ],
            "text/plain": [
              "  tickers    eps   revenue     price      people\n",
              "0  GOOGLE  27.82        87       845  LARRY PAGE\n",
              "1     WMT   4.61       484        64          64\n",
              "2    MSFT     -1        65        65  BILL GATES\n",
              "3    BHEL   BHEL        50      1023      MUKESH\n",
              "4    TATA      5  very low  very low  RATAN TATA"
            ]
          },
          "metadata": {
            "tags": []
          },
          "execution_count": 60
        }
      ]
    },
    {
      "cell_type": "code",
      "metadata": {
        "colab": {
          "base_uri": "https://localhost:8080/"
        },
        "id": "BC8olHUVFGu_",
        "outputId": "a8c38bf2-f3ae-47c3-a5e0-6a921e786637"
      },
      "source": [
        "pd4.interpolate"
      ],
      "execution_count": 61,
      "outputs": [
        {
          "output_type": "execute_result",
          "data": {
            "text/plain": [
              "<bound method NDFrame.interpolate of   tickers    eps   revenue   price      people\n",
              "0  GOOGLE  27.82        87   845.0  LARRY PAGE\n",
              "1     WMT   4.61       484    64.0         NaN\n",
              "2    MSFT  -1.00        65    65.0  BILL GATES\n",
              "3    BHEL    NaN        50  1023.0      MUKESH\n",
              "4    TATA   5.00  very low     NaN  RATAN TATA>"
            ]
          },
          "metadata": {
            "tags": []
          },
          "execution_count": 61
        }
      ]
    },
    {
      "cell_type": "code",
      "metadata": {
        "colab": {
          "base_uri": "https://localhost:8080/",
          "height": 195
        },
        "id": "e-yCDdYXFo0E",
        "outputId": "b69e6e7c-0987-41a4-c0de-960ef4c10dbb"
      },
      "source": [
        "pd4"
      ],
      "execution_count": 62,
      "outputs": [
        {
          "output_type": "execute_result",
          "data": {
            "text/html": [
              "<div>\n",
              "<style scoped>\n",
              "    .dataframe tbody tr th:only-of-type {\n",
              "        vertical-align: middle;\n",
              "    }\n",
              "\n",
              "    .dataframe tbody tr th {\n",
              "        vertical-align: top;\n",
              "    }\n",
              "\n",
              "    .dataframe thead th {\n",
              "        text-align: right;\n",
              "    }\n",
              "</style>\n",
              "<table border=\"1\" class=\"dataframe\">\n",
              "  <thead>\n",
              "    <tr style=\"text-align: right;\">\n",
              "      <th></th>\n",
              "      <th>tickers</th>\n",
              "      <th>eps</th>\n",
              "      <th>revenue</th>\n",
              "      <th>price</th>\n",
              "      <th>people</th>\n",
              "    </tr>\n",
              "  </thead>\n",
              "  <tbody>\n",
              "    <tr>\n",
              "      <th>0</th>\n",
              "      <td>GOOGLE</td>\n",
              "      <td>27.82</td>\n",
              "      <td>87</td>\n",
              "      <td>845.0</td>\n",
              "      <td>LARRY PAGE</td>\n",
              "    </tr>\n",
              "    <tr>\n",
              "      <th>1</th>\n",
              "      <td>WMT</td>\n",
              "      <td>4.61</td>\n",
              "      <td>484</td>\n",
              "      <td>64.0</td>\n",
              "      <td>NaN</td>\n",
              "    </tr>\n",
              "    <tr>\n",
              "      <th>2</th>\n",
              "      <td>MSFT</td>\n",
              "      <td>-1.00</td>\n",
              "      <td>65</td>\n",
              "      <td>65.0</td>\n",
              "      <td>BILL GATES</td>\n",
              "    </tr>\n",
              "    <tr>\n",
              "      <th>3</th>\n",
              "      <td>BHEL</td>\n",
              "      <td>NaN</td>\n",
              "      <td>50</td>\n",
              "      <td>1023.0</td>\n",
              "      <td>MUKESH</td>\n",
              "    </tr>\n",
              "    <tr>\n",
              "      <th>4</th>\n",
              "      <td>TATA</td>\n",
              "      <td>5.00</td>\n",
              "      <td>very low</td>\n",
              "      <td>NaN</td>\n",
              "      <td>RATAN TATA</td>\n",
              "    </tr>\n",
              "  </tbody>\n",
              "</table>\n",
              "</div>"
            ],
            "text/plain": [
              "  tickers    eps   revenue   price      people\n",
              "0  GOOGLE  27.82        87   845.0  LARRY PAGE\n",
              "1     WMT   4.61       484    64.0         NaN\n",
              "2    MSFT  -1.00        65    65.0  BILL GATES\n",
              "3    BHEL    NaN        50  1023.0      MUKESH\n",
              "4    TATA   5.00  very low     NaN  RATAN TATA"
            ]
          },
          "metadata": {
            "tags": []
          },
          "execution_count": 62
        }
      ]
    },
    {
      "cell_type": "code",
      "metadata": {
        "colab": {
          "base_uri": "https://localhost:8080/",
          "height": 195
        },
        "id": "x4V8fQlFFpQw",
        "outputId": "6dec238f-1075-46c0-8395-b0f01e7ce6cb"
      },
      "source": [
        "pd4.interpolate()  #some avrg values by default linear interpolation"
      ],
      "execution_count": 64,
      "outputs": [
        {
          "output_type": "execute_result",
          "data": {
            "text/html": [
              "<div>\n",
              "<style scoped>\n",
              "    .dataframe tbody tr th:only-of-type {\n",
              "        vertical-align: middle;\n",
              "    }\n",
              "\n",
              "    .dataframe tbody tr th {\n",
              "        vertical-align: top;\n",
              "    }\n",
              "\n",
              "    .dataframe thead th {\n",
              "        text-align: right;\n",
              "    }\n",
              "</style>\n",
              "<table border=\"1\" class=\"dataframe\">\n",
              "  <thead>\n",
              "    <tr style=\"text-align: right;\">\n",
              "      <th></th>\n",
              "      <th>tickers</th>\n",
              "      <th>eps</th>\n",
              "      <th>revenue</th>\n",
              "      <th>price</th>\n",
              "      <th>people</th>\n",
              "    </tr>\n",
              "  </thead>\n",
              "  <tbody>\n",
              "    <tr>\n",
              "      <th>0</th>\n",
              "      <td>GOOGLE</td>\n",
              "      <td>27.82</td>\n",
              "      <td>87</td>\n",
              "      <td>845.0</td>\n",
              "      <td>LARRY PAGE</td>\n",
              "    </tr>\n",
              "    <tr>\n",
              "      <th>1</th>\n",
              "      <td>WMT</td>\n",
              "      <td>4.61</td>\n",
              "      <td>484</td>\n",
              "      <td>64.0</td>\n",
              "      <td>NaN</td>\n",
              "    </tr>\n",
              "    <tr>\n",
              "      <th>2</th>\n",
              "      <td>MSFT</td>\n",
              "      <td>-1.00</td>\n",
              "      <td>65</td>\n",
              "      <td>65.0</td>\n",
              "      <td>BILL GATES</td>\n",
              "    </tr>\n",
              "    <tr>\n",
              "      <th>3</th>\n",
              "      <td>BHEL</td>\n",
              "      <td>2.00</td>\n",
              "      <td>50</td>\n",
              "      <td>1023.0</td>\n",
              "      <td>MUKESH</td>\n",
              "    </tr>\n",
              "    <tr>\n",
              "      <th>4</th>\n",
              "      <td>TATA</td>\n",
              "      <td>5.00</td>\n",
              "      <td>very low</td>\n",
              "      <td>1023.0</td>\n",
              "      <td>RATAN TATA</td>\n",
              "    </tr>\n",
              "  </tbody>\n",
              "</table>\n",
              "</div>"
            ],
            "text/plain": [
              "  tickers    eps   revenue   price      people\n",
              "0  GOOGLE  27.82        87   845.0  LARRY PAGE\n",
              "1     WMT   4.61       484    64.0         NaN\n",
              "2    MSFT  -1.00        65    65.0  BILL GATES\n",
              "3    BHEL   2.00        50  1023.0      MUKESH\n",
              "4    TATA   5.00  very low  1023.0  RATAN TATA"
            ]
          },
          "metadata": {
            "tags": []
          },
          "execution_count": 64
        }
      ]
    },
    {
      "cell_type": "code",
      "metadata": {
        "colab": {
          "base_uri": "https://localhost:8080/"
        },
        "id": "QIVF0IgGFwPP",
        "outputId": "c2aa3b9c-873e-4d40-f511-02e2e9ff42ed"
      },
      "source": [
        "pd4['revenue']"
      ],
      "execution_count": 65,
      "outputs": [
        {
          "output_type": "execute_result",
          "data": {
            "text/plain": [
              "0          87\n",
              "1         484\n",
              "2          65\n",
              "3          50\n",
              "4    very low\n",
              "Name: revenue, dtype: object"
            ]
          },
          "metadata": {
            "tags": []
          },
          "execution_count": 65
        }
      ]
    },
    {
      "cell_type": "code",
      "metadata": {
        "colab": {
          "base_uri": "https://localhost:8080/",
          "height": 35
        },
        "id": "xz22Q-rsGHg1",
        "outputId": "26be1be6-d091-4c2e-a218-22ea3060182b"
      },
      "source": [
        "pd4['revenue'][4]"
      ],
      "execution_count": 66,
      "outputs": [
        {
          "output_type": "execute_result",
          "data": {
            "application/vnd.google.colaboratory.intrinsic+json": {
              "type": "string"
            },
            "text/plain": [
              "'very low'"
            ]
          },
          "metadata": {
            "tags": []
          },
          "execution_count": 66
        }
      ]
    },
    {
      "cell_type": "code",
      "metadata": {
        "colab": {
          "base_uri": "https://localhost:8080/"
        },
        "id": "hjo9jTiQGMne",
        "outputId": "0342def4-bf67-42d6-d18d-e055935a73ae"
      },
      "source": [
        "pd4['revenue'][4]=20"
      ],
      "execution_count": 67,
      "outputs": [
        {
          "output_type": "stream",
          "text": [
            "/usr/local/lib/python3.6/dist-packages/ipykernel_launcher.py:1: SettingWithCopyWarning: \n",
            "A value is trying to be set on a copy of a slice from a DataFrame\n",
            "\n",
            "See the caveats in the documentation: https://pandas.pydata.org/pandas-docs/stable/user_guide/indexing.html#returning-a-view-versus-a-copy\n",
            "  \"\"\"Entry point for launching an IPython kernel.\n"
          ],
          "name": "stderr"
        }
      ]
    },
    {
      "cell_type": "code",
      "metadata": {
        "colab": {
          "base_uri": "https://localhost:8080/",
          "height": 195
        },
        "id": "1tIEScn5GQlc",
        "outputId": "d1227f01-e0fc-408a-ef2b-514a469ebfed"
      },
      "source": [
        "pd4"
      ],
      "execution_count": 68,
      "outputs": [
        {
          "output_type": "execute_result",
          "data": {
            "text/html": [
              "<div>\n",
              "<style scoped>\n",
              "    .dataframe tbody tr th:only-of-type {\n",
              "        vertical-align: middle;\n",
              "    }\n",
              "\n",
              "    .dataframe tbody tr th {\n",
              "        vertical-align: top;\n",
              "    }\n",
              "\n",
              "    .dataframe thead th {\n",
              "        text-align: right;\n",
              "    }\n",
              "</style>\n",
              "<table border=\"1\" class=\"dataframe\">\n",
              "  <thead>\n",
              "    <tr style=\"text-align: right;\">\n",
              "      <th></th>\n",
              "      <th>tickers</th>\n",
              "      <th>eps</th>\n",
              "      <th>revenue</th>\n",
              "      <th>price</th>\n",
              "      <th>people</th>\n",
              "    </tr>\n",
              "  </thead>\n",
              "  <tbody>\n",
              "    <tr>\n",
              "      <th>0</th>\n",
              "      <td>GOOGLE</td>\n",
              "      <td>27.82</td>\n",
              "      <td>87</td>\n",
              "      <td>845.0</td>\n",
              "      <td>LARRY PAGE</td>\n",
              "    </tr>\n",
              "    <tr>\n",
              "      <th>1</th>\n",
              "      <td>WMT</td>\n",
              "      <td>4.61</td>\n",
              "      <td>484</td>\n",
              "      <td>64.0</td>\n",
              "      <td>NaN</td>\n",
              "    </tr>\n",
              "    <tr>\n",
              "      <th>2</th>\n",
              "      <td>MSFT</td>\n",
              "      <td>-1.00</td>\n",
              "      <td>65</td>\n",
              "      <td>65.0</td>\n",
              "      <td>BILL GATES</td>\n",
              "    </tr>\n",
              "    <tr>\n",
              "      <th>3</th>\n",
              "      <td>BHEL</td>\n",
              "      <td>NaN</td>\n",
              "      <td>50</td>\n",
              "      <td>1023.0</td>\n",
              "      <td>MUKESH</td>\n",
              "    </tr>\n",
              "    <tr>\n",
              "      <th>4</th>\n",
              "      <td>TATA</td>\n",
              "      <td>5.00</td>\n",
              "      <td>20</td>\n",
              "      <td>NaN</td>\n",
              "      <td>RATAN TATA</td>\n",
              "    </tr>\n",
              "  </tbody>\n",
              "</table>\n",
              "</div>"
            ],
            "text/plain": [
              "  tickers    eps revenue   price      people\n",
              "0  GOOGLE  27.82      87   845.0  LARRY PAGE\n",
              "1     WMT   4.61     484    64.0         NaN\n",
              "2    MSFT  -1.00      65    65.0  BILL GATES\n",
              "3    BHEL    NaN      50  1023.0      MUKESH\n",
              "4    TATA   5.00      20     NaN  RATAN TATA"
            ]
          },
          "metadata": {
            "tags": []
          },
          "execution_count": 68
        }
      ]
    },
    {
      "cell_type": "code",
      "metadata": {
        "colab": {
          "base_uri": "https://localhost:8080/",
          "height": 195
        },
        "id": "5Ow0FJ7FGUZd",
        "outputId": "6afb65dd-edf0-4476-d134-172a02b91227"
      },
      "source": [
        "pd4.dropna(how=\"all\")"
      ],
      "execution_count": 69,
      "outputs": [
        {
          "output_type": "execute_result",
          "data": {
            "text/html": [
              "<div>\n",
              "<style scoped>\n",
              "    .dataframe tbody tr th:only-of-type {\n",
              "        vertical-align: middle;\n",
              "    }\n",
              "\n",
              "    .dataframe tbody tr th {\n",
              "        vertical-align: top;\n",
              "    }\n",
              "\n",
              "    .dataframe thead th {\n",
              "        text-align: right;\n",
              "    }\n",
              "</style>\n",
              "<table border=\"1\" class=\"dataframe\">\n",
              "  <thead>\n",
              "    <tr style=\"text-align: right;\">\n",
              "      <th></th>\n",
              "      <th>tickers</th>\n",
              "      <th>eps</th>\n",
              "      <th>revenue</th>\n",
              "      <th>price</th>\n",
              "      <th>people</th>\n",
              "    </tr>\n",
              "  </thead>\n",
              "  <tbody>\n",
              "    <tr>\n",
              "      <th>0</th>\n",
              "      <td>GOOGLE</td>\n",
              "      <td>27.82</td>\n",
              "      <td>87</td>\n",
              "      <td>845.0</td>\n",
              "      <td>LARRY PAGE</td>\n",
              "    </tr>\n",
              "    <tr>\n",
              "      <th>1</th>\n",
              "      <td>WMT</td>\n",
              "      <td>4.61</td>\n",
              "      <td>484</td>\n",
              "      <td>64.0</td>\n",
              "      <td>NaN</td>\n",
              "    </tr>\n",
              "    <tr>\n",
              "      <th>2</th>\n",
              "      <td>MSFT</td>\n",
              "      <td>-1.00</td>\n",
              "      <td>65</td>\n",
              "      <td>65.0</td>\n",
              "      <td>BILL GATES</td>\n",
              "    </tr>\n",
              "    <tr>\n",
              "      <th>3</th>\n",
              "      <td>BHEL</td>\n",
              "      <td>NaN</td>\n",
              "      <td>50</td>\n",
              "      <td>1023.0</td>\n",
              "      <td>MUKESH</td>\n",
              "    </tr>\n",
              "    <tr>\n",
              "      <th>4</th>\n",
              "      <td>TATA</td>\n",
              "      <td>5.00</td>\n",
              "      <td>20</td>\n",
              "      <td>NaN</td>\n",
              "      <td>RATAN TATA</td>\n",
              "    </tr>\n",
              "  </tbody>\n",
              "</table>\n",
              "</div>"
            ],
            "text/plain": [
              "  tickers    eps revenue   price      people\n",
              "0  GOOGLE  27.82      87   845.0  LARRY PAGE\n",
              "1     WMT   4.61     484    64.0         NaN\n",
              "2    MSFT  -1.00      65    65.0  BILL GATES\n",
              "3    BHEL    NaN      50  1023.0      MUKESH\n",
              "4    TATA   5.00      20     NaN  RATAN TATA"
            ]
          },
          "metadata": {
            "tags": []
          },
          "execution_count": 69
        }
      ]
    },
    {
      "cell_type": "code",
      "metadata": {
        "colab": {
          "base_uri": "https://localhost:8080/",
          "height": 195
        },
        "id": "C45qI4E9GkNy",
        "outputId": "858aad16-ce34-48a0-cacc-8897946ea864"
      },
      "source": [
        "pd4.dropna(thresh=1)"
      ],
      "execution_count": 70,
      "outputs": [
        {
          "output_type": "execute_result",
          "data": {
            "text/html": [
              "<div>\n",
              "<style scoped>\n",
              "    .dataframe tbody tr th:only-of-type {\n",
              "        vertical-align: middle;\n",
              "    }\n",
              "\n",
              "    .dataframe tbody tr th {\n",
              "        vertical-align: top;\n",
              "    }\n",
              "\n",
              "    .dataframe thead th {\n",
              "        text-align: right;\n",
              "    }\n",
              "</style>\n",
              "<table border=\"1\" class=\"dataframe\">\n",
              "  <thead>\n",
              "    <tr style=\"text-align: right;\">\n",
              "      <th></th>\n",
              "      <th>tickers</th>\n",
              "      <th>eps</th>\n",
              "      <th>revenue</th>\n",
              "      <th>price</th>\n",
              "      <th>people</th>\n",
              "    </tr>\n",
              "  </thead>\n",
              "  <tbody>\n",
              "    <tr>\n",
              "      <th>0</th>\n",
              "      <td>GOOGLE</td>\n",
              "      <td>27.82</td>\n",
              "      <td>87</td>\n",
              "      <td>845.0</td>\n",
              "      <td>LARRY PAGE</td>\n",
              "    </tr>\n",
              "    <tr>\n",
              "      <th>1</th>\n",
              "      <td>WMT</td>\n",
              "      <td>4.61</td>\n",
              "      <td>484</td>\n",
              "      <td>64.0</td>\n",
              "      <td>NaN</td>\n",
              "    </tr>\n",
              "    <tr>\n",
              "      <th>2</th>\n",
              "      <td>MSFT</td>\n",
              "      <td>-1.00</td>\n",
              "      <td>65</td>\n",
              "      <td>65.0</td>\n",
              "      <td>BILL GATES</td>\n",
              "    </tr>\n",
              "    <tr>\n",
              "      <th>3</th>\n",
              "      <td>BHEL</td>\n",
              "      <td>NaN</td>\n",
              "      <td>50</td>\n",
              "      <td>1023.0</td>\n",
              "      <td>MUKESH</td>\n",
              "    </tr>\n",
              "    <tr>\n",
              "      <th>4</th>\n",
              "      <td>TATA</td>\n",
              "      <td>5.00</td>\n",
              "      <td>20</td>\n",
              "      <td>NaN</td>\n",
              "      <td>RATAN TATA</td>\n",
              "    </tr>\n",
              "  </tbody>\n",
              "</table>\n",
              "</div>"
            ],
            "text/plain": [
              "  tickers    eps revenue   price      people\n",
              "0  GOOGLE  27.82      87   845.0  LARRY PAGE\n",
              "1     WMT   4.61     484    64.0         NaN\n",
              "2    MSFT  -1.00      65    65.0  BILL GATES\n",
              "3    BHEL    NaN      50  1023.0      MUKESH\n",
              "4    TATA   5.00      20     NaN  RATAN TATA"
            ]
          },
          "metadata": {
            "tags": []
          },
          "execution_count": 70
        }
      ]
    },
    {
      "cell_type": "code",
      "metadata": {
        "id": "rZkx5i27G3uw"
      },
      "source": [
        ""
      ],
      "execution_count": null,
      "outputs": []
    }
  ]
}